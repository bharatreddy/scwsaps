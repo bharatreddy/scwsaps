{
 "cells": [
  {
   "cell_type": "code",
   "execution_count": 1,
   "metadata": {
    "collapsed": false
   },
   "outputs": [
    {
     "name": "stderr",
     "output_type": "stream",
     "text": [
      "/usr/local/lib/python2.7/site-packages/matplotlib/font_manager.py:273: UserWarning: Matplotlib is building the font cache using fc-list. This may take a moment.\n",
      "  warnings.warn('Matplotlib is building the font cache using fc-list. This may take a moment.')\n"
     ]
    },
    {
     "name": "stdout",
     "output_type": "stream",
     "text": [
      "Populating the interactive namespace from numpy and matplotlib\n"
     ]
    }
   ],
   "source": [
    "from scipy.io import netcdf\n",
    "import numpy\n",
    "import netCDF4\n",
    "import pandas\n",
    "import aacgmv2\n",
    "%pylab inline"
   ]
  },
  {
   "cell_type": "code",
   "execution_count": 2,
   "metadata": {
    "collapsed": true
   },
   "outputs": [],
   "source": [
    "ampFName = \"../data/20110516.0000.86400.120.north.grd.ncdf\""
   ]
  },
  {
   "cell_type": "code",
   "execution_count": 6,
   "metadata": {
    "collapsed": false
   },
   "outputs": [
    {
     "data": {
      "text/plain": [
       "[u'nlon',\n",
       " u'nlat',\n",
       " u'start_yr',\n",
       " u'start_mo',\n",
       " u'start_dy',\n",
       " u'start_hr',\n",
       " u'start_mt',\n",
       " u'start_sc',\n",
       " u'end_yr',\n",
       " u'end_mo',\n",
       " u'end_dy',\n",
       " u'end_hr',\n",
       " u'end_mt',\n",
       " u'end_sc',\n",
       " u'colat',\n",
       " u'mlt',\n",
       " u'dBnorth1',\n",
       " u'dBeast1',\n",
       " u'dBnorth2',\n",
       " u'dBeast2',\n",
       " u'ddBnorth1',\n",
       " u'ddBeast1',\n",
       " u'ddBnorth2',\n",
       " u'ddBeast2',\n",
       " u'dBr',\n",
       " u'ddBr',\n",
       " u'Jr',\n",
       " u'dJr',\n",
       " u'dBprt']"
      ]
     },
     "execution_count": 6,
     "metadata": {},
     "output_type": "execute_result"
    }
   ],
   "source": [
    "currDataSet = netCDF4.Dataset(ampFName)\n",
    "currDataSet.variables.keys()"
   ]
  },
  {
   "cell_type": "code",
   "execution_count": 23,
   "metadata": {
    "collapsed": false
   },
   "outputs": [
    {
     "data": {
      "text/plain": [
       "array([[  1.,   2.,   3., ...,  48.,  49.,  50.],\n",
       "       [  1.,   2.,   3., ...,  48.,  49.,  50.],\n",
       "       [  1.,   2.,   3., ...,  48.,  49.,  50.],\n",
       "       ..., \n",
       "       [  1.,   2.,   3., ...,  48.,  49.,  50.],\n",
       "       [  1.,   2.,   3., ...,  48.,  49.,  50.],\n",
       "       [  1.,   2.,   3., ...,  48.,  49.,  50.]], dtype=float32)"
      ]
     },
     "execution_count": 23,
     "metadata": {},
     "output_type": "execute_result"
    }
   ],
   "source": [
    "currDataSet.variables[\"colat\"][:]"
   ]
  },
  {
   "cell_type": "code",
   "execution_count": null,
   "metadata": {
    "collapsed": true
   },
   "outputs": [],
   "source": []
  }
 ],
 "metadata": {
  "kernelspec": {
   "display_name": "Python 2",
   "language": "python",
   "name": "python2"
  },
  "language_info": {
   "codemirror_mode": {
    "name": "ipython",
    "version": 2
   },
   "file_extension": ".py",
   "mimetype": "text/x-python",
   "name": "python",
   "nbconvert_exporter": "python",
   "pygments_lexer": "ipython2",
   "version": "2.7.9"
  }
 },
 "nbformat": 4,
 "nbformat_minor": 1
}
