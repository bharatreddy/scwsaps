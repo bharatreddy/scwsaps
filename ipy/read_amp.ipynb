{
 "cells": [
  {
   "cell_type": "code",
   "execution_count": 1,
   "metadata": {
    "collapsed": false
   },
   "outputs": [
    {
     "name": "stderr",
     "output_type": "stream",
     "text": [
      "/usr/local/lib/python2.7/site-packages/matplotlib/font_manager.py:273: UserWarning: Matplotlib is building the font cache using fc-list. This may take a moment.\n",
      "  warnings.warn('Matplotlib is building the font cache using fc-list. This may take a moment.')\n"
     ]
    },
    {
     "name": "stdout",
     "output_type": "stream",
     "text": [
      "Populating the interactive namespace from numpy and matplotlib\n"
     ]
    }
   ],
   "source": [
    "from scipy.io import netcdf\n",
    "import numpy\n",
    "import netCDF4\n",
    "import pandas\n",
    "import aacgmv2\n",
    "import xarray\n",
    "%pylab inline"
   ]
  },
  {
   "cell_type": "code",
   "execution_count": 2,
   "metadata": {
    "collapsed": true
   },
   "outputs": [],
   "source": [
    "ampFName = \"../data/20110516.0000.86400.120.north.grd.ncdf\""
   ]
  },
  {
   "cell_type": "code",
   "execution_count": 3,
   "metadata": {
    "collapsed": false
   },
   "outputs": [],
   "source": [
    "# currDataSet = netCDF4.Dataset(ampFName)\n",
    "# currDataSet.variables.keys()"
   ]
  },
  {
   "cell_type": "code",
   "execution_count": 4,
   "metadata": {
    "collapsed": false
   },
   "outputs": [],
   "source": [
    "# # get the variables into a DF\n",
    "# nlon = currDataSet.variables[\"nlon\"][:]\n",
    "# nlat = currDataSet.variables[\"nlat\"][:]\n",
    "# # start time vars\n",
    "# start_yr = currDataSet.variables[\"start_yr\"][:]\n",
    "# start_mo = currDataSet.variables[\"start_mo\"][:]\n",
    "# start_dy = currDataSet.variables[\"start_dy\"][:]\n",
    "# start_hr = currDataSet.variables[\"start_hr\"][:]\n",
    "# start_mt = currDataSet.variables[\"start_mt\"][:]\n",
    "# start_sc = currDataSet.variables[\"start_sc\"][:]\n",
    "# # end time vars\n",
    "# end_yr = currDataSet.variables[\"end_yr\"][:]\n",
    "# end_mo = currDataSet.variables[\"end_mo\"][:]\n",
    "# end_dy = currDataSet.variables[\"end_dy\"][:]\n",
    "# end_hr = currDataSet.variables[\"end_hr\"][:]\n",
    "# end_mt = currDataSet.variables[\"end_mt\"][:]\n",
    "# end_sc = currDataSet.variables[\"end_sc\"][:]\n",
    "# # measurements\n",
    "# Jr = currDataSet.variables[\"Jr\"][:]\n",
    "# dBr = currDataSet.variables[\"dBr\"][:]\n",
    "# dBnorth1 = currDataSet.variables[\"dBnorth1\"][:]\n",
    "# dBeast1 = currDataSet.variables[\"dBeast1\"][:]\n",
    "# dBnorth2 = currDataSet.variables[\"dBnorth2\"][:]\n",
    "# dBeast2 = currDataSet.variables[\"dBeast2\"][:]\n",
    "# mlt = currDataSet.variables[\"mlt\"][:]\n",
    "# var = currDataSet.variables[\"colat\"][:]\n",
    "# print var.shape"
   ]
  },
  {
   "cell_type": "code",
   "execution_count": 5,
   "metadata": {
    "collapsed": false
   },
   "outputs": [
    {
     "ename": "NameError",
     "evalue": "name 'ds' is not defined",
     "output_type": "error",
     "traceback": [
      "\u001b[0;31m---------------------------------------------------------------------------\u001b[0m",
      "\u001b[0;31mNameError\u001b[0m                                 Traceback (most recent call last)",
      "\u001b[0;32m<ipython-input-5-996c8c05b5b0>\u001b[0m in \u001b[0;36m<module>\u001b[0;34m()\u001b[0m\n\u001b[1;32m      1\u001b[0m \u001b[0mdsXarr\u001b[0m \u001b[0;34m=\u001b[0m \u001b[0mxarray\u001b[0m\u001b[0;34m.\u001b[0m\u001b[0mopen_dataset\u001b[0m\u001b[0;34m(\u001b[0m\u001b[0mampFName\u001b[0m\u001b[0;34m)\u001b[0m\u001b[0;34m\u001b[0m\u001b[0m\n\u001b[0;32m----> 2\u001b[0;31m \u001b[0mdf\u001b[0m \u001b[0;34m=\u001b[0m \u001b[0mds\u001b[0m\u001b[0;34m.\u001b[0m\u001b[0mto_dataframe\u001b[0m\u001b[0;34m(\u001b[0m\u001b[0;34m)\u001b[0m\u001b[0;34m\u001b[0m\u001b[0m\n\u001b[0m\u001b[1;32m      3\u001b[0m selCols = ['start_yr', 'start_mo', 'start_dy', 'start_hr',\n\u001b[1;32m      4\u001b[0m        \u001b[0;34m'start_mt'\u001b[0m\u001b[0;34m,\u001b[0m \u001b[0;34m'start_sc'\u001b[0m\u001b[0;34m,\u001b[0m \u001b[0;34m'end_yr'\u001b[0m\u001b[0;34m,\u001b[0m \u001b[0;34m'end_mo'\u001b[0m\u001b[0;34m,\u001b[0m \u001b[0;34m'end_dy'\u001b[0m\u001b[0;34m,\u001b[0m \u001b[0;34m'end_hr'\u001b[0m\u001b[0;34m,\u001b[0m\u001b[0;34m\u001b[0m\u001b[0m\n\u001b[1;32m      5\u001b[0m        \u001b[0;34m'end_mt'\u001b[0m\u001b[0;34m,\u001b[0m \u001b[0;34m'end_sc'\u001b[0m\u001b[0;34m,\u001b[0m \u001b[0;34m'colat'\u001b[0m\u001b[0;34m,\u001b[0m \u001b[0;34m'mlt'\u001b[0m\u001b[0;34m,\u001b[0m \u001b[0;34m'dBnorth1'\u001b[0m\u001b[0;34m,\u001b[0m \u001b[0;34m'dBeast1'\u001b[0m\u001b[0;34m,\u001b[0m\u001b[0;34m\u001b[0m\u001b[0m\n",
      "\u001b[0;31mNameError\u001b[0m: name 'ds' is not defined"
     ]
    }
   ],
   "source": [
    "dsXarr = xarray.open_dataset(ampFName)\n",
    "ampDF = dsXarr.to_dataframe()\n",
    "selCols = ['start_yr', 'start_mo', 'start_dy', 'start_hr',\n",
    "       'start_mt', 'start_sc', 'end_yr', 'end_mo', 'end_dy', 'end_hr',\n",
    "       'end_mt', 'end_sc', 'colat', 'mlt', 'dBnorth1', 'dBeast1',\n",
    "       'dBnorth2', 'dBeast2', 'dBr', 'Jr']\n",
    "ampDF = ampDF[selCols].reset_index()\n",
    "ampDF"
   ]
  },
  {
   "cell_type": "code",
   "execution_count": null,
   "metadata": {
    "collapsed": false
   },
   "outputs": [],
   "source": [
    "df.head()"
   ]
  },
  {
   "cell_type": "code",
   "execution_count": null,
   "metadata": {
    "collapsed": false
   },
   "outputs": [],
   "source": [
    "df.columns"
   ]
  },
  {
   "cell_type": "code",
   "execution_count": null,
   "metadata": {
    "collapsed": true
   },
   "outputs": [],
   "source": []
  }
 ],
 "metadata": {
  "kernelspec": {
   "display_name": "Python 2",
   "language": "python",
   "name": "python2"
  },
  "language_info": {
   "codemirror_mode": {
    "name": "ipython",
    "version": 2
   },
   "file_extension": ".py",
   "mimetype": "text/x-python",
   "name": "python",
   "nbconvert_exporter": "python",
   "pygments_lexer": "ipython2",
   "version": "2.7.9"
  }
 },
 "nbformat": 4,
 "nbformat_minor": 1
}
