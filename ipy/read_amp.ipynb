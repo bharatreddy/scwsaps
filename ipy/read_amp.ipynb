{
 "cells": [
  {
   "cell_type": "code",
   "execution_count": 1,
   "metadata": {},
   "outputs": [
    {
     "name": "stdout",
     "output_type": "stream",
     "text": [
      "Populating the interactive namespace from numpy and matplotlib\n"
     ]
    }
   ],
   "source": [
    "from scipy.io import netcdf\n",
    "import numpy\n",
    "import netCDF4\n",
    "import pandas\n",
    "import aacgmv2\n",
    "import xarray\n",
    "%pylab inline"
   ]
  },
  {
   "cell_type": "code",
   "execution_count": 2,
   "metadata": {
    "collapsed": true
   },
   "outputs": [],
   "source": [
    "ampFName = \"../data/20110516.0000.86400.120.north.grd.ncdf\"\n",
    "selDate = datetime.datetime( 2011, 5, 16, 8, 28 )"
   ]
  },
  {
   "cell_type": "code",
   "execution_count": 3,
   "metadata": {
    "collapsed": true
   },
   "outputs": [],
   "source": [
    "# currDataSet = netCDF4.Dataset(ampFName)\n",
    "# currDataSet.variables.keys()"
   ]
  },
  {
   "cell_type": "code",
   "execution_count": 4,
   "metadata": {
    "collapsed": true
   },
   "outputs": [],
   "source": [
    "# # get the variables into a DF\n",
    "# nlon = currDataSet.variables[\"nlon\"][:]\n",
    "# nlat = currDataSet.variables[\"nlat\"][:]\n",
    "# # start time vars\n",
    "# start_yr = currDataSet.variables[\"start_yr\"][:]\n",
    "# start_mo = currDataSet.variables[\"start_mo\"][:]\n",
    "# start_dy = currDataSet.variables[\"start_dy\"][:]\n",
    "# start_hr = currDataSet.variables[\"start_hr\"][:]\n",
    "# start_mt = currDataSet.variables[\"start_mt\"][:]\n",
    "# start_sc = currDataSet.variables[\"start_sc\"][:]\n",
    "# # end time vars\n",
    "# end_yr = currDataSet.variables[\"end_yr\"][:]\n",
    "# end_mo = currDataSet.variables[\"end_mo\"][:]\n",
    "# end_dy = currDataSet.variables[\"end_dy\"][:]\n",
    "# end_hr = currDataSet.variables[\"end_hr\"][:]\n",
    "# end_mt = currDataSet.variables[\"end_mt\"][:]\n",
    "# end_sc = currDataSet.variables[\"end_sc\"][:]\n",
    "# # measurements\n",
    "# Jr = currDataSet.variables[\"Jr\"][:]\n",
    "# dBr = currDataSet.variables[\"dBr\"][:]\n",
    "# dBnorth1 = currDataSet.variables[\"dBnorth1\"][:]\n",
    "# dBeast1 = currDataSet.variables[\"dBeast1\"][:]\n",
    "# dBnorth2 = currDataSet.variables[\"dBnorth2\"][:]\n",
    "# dBeast2 = currDataSet.variables[\"dBeast2\"][:]\n",
    "# mlt = currDataSet.variables[\"mlt\"][:]\n",
    "# var = currDataSet.variables[\"colat\"][:]\n",
    "# print var.shape"
   ]
  },
  {
   "cell_type": "code",
   "execution_count": 5,
   "metadata": {},
   "outputs": [
    {
     "data": {
      "text/html": [
       "<div>\n",
       "<table border=\"1\" class=\"dataframe\">\n",
       "  <thead>\n",
       "    <tr style=\"text-align: right;\">\n",
       "      <th></th>\n",
       "      <th>start_date</th>\n",
       "      <th>end_date</th>\n",
       "      <th>mlat</th>\n",
       "      <th>mlt</th>\n",
       "      <th>dBnorth1</th>\n",
       "      <th>dBeast1</th>\n",
       "      <th>dBnorth2</th>\n",
       "      <th>dBeast2</th>\n",
       "      <th>dBr</th>\n",
       "      <th>Jr</th>\n",
       "    </tr>\n",
       "  </thead>\n",
       "  <tbody>\n",
       "    <tr>\n",
       "      <th>0</th>\n",
       "      <td>2011-05-16</td>\n",
       "      <td>2011-05-16 00:10:00</td>\n",
       "      <td>89.0</td>\n",
       "      <td>0.0</td>\n",
       "      <td>82.529999</td>\n",
       "      <td>60.080002</td>\n",
       "      <td>76.720001</td>\n",
       "      <td>67.349998</td>\n",
       "      <td>-2.50</td>\n",
       "      <td>-0.21</td>\n",
       "    </tr>\n",
       "    <tr>\n",
       "      <th>1</th>\n",
       "      <td>2011-05-16</td>\n",
       "      <td>2011-05-16 00:10:00</td>\n",
       "      <td>88.0</td>\n",
       "      <td>0.0</td>\n",
       "      <td>80.660004</td>\n",
       "      <td>31.370001</td>\n",
       "      <td>76.199997</td>\n",
       "      <td>41.020000</td>\n",
       "      <td>-2.55</td>\n",
       "      <td>-0.27</td>\n",
       "    </tr>\n",
       "    <tr>\n",
       "      <th>2</th>\n",
       "      <td>2011-05-16</td>\n",
       "      <td>2011-05-16 00:10:00</td>\n",
       "      <td>87.0</td>\n",
       "      <td>0.0</td>\n",
       "      <td>61.980000</td>\n",
       "      <td>1.050000</td>\n",
       "      <td>61.169998</td>\n",
       "      <td>10.080000</td>\n",
       "      <td>4.62</td>\n",
       "      <td>-0.28</td>\n",
       "    </tr>\n",
       "    <tr>\n",
       "      <th>3</th>\n",
       "      <td>2011-05-16</td>\n",
       "      <td>2011-05-16 00:10:00</td>\n",
       "      <td>86.0</td>\n",
       "      <td>0.0</td>\n",
       "      <td>32.880001</td>\n",
       "      <td>-19.570000</td>\n",
       "      <td>35.610001</td>\n",
       "      <td>-13.990000</td>\n",
       "      <td>13.99</td>\n",
       "      <td>-0.25</td>\n",
       "    </tr>\n",
       "    <tr>\n",
       "      <th>4</th>\n",
       "      <td>2011-05-16</td>\n",
       "      <td>2011-05-16 00:10:00</td>\n",
       "      <td>85.0</td>\n",
       "      <td>0.0</td>\n",
       "      <td>9.180000</td>\n",
       "      <td>-25.520000</td>\n",
       "      <td>13.440000</td>\n",
       "      <td>-23.559999</td>\n",
       "      <td>22.02</td>\n",
       "      <td>-0.18</td>\n",
       "    </tr>\n",
       "  </tbody>\n",
       "</table>\n",
       "</div>"
      ],
      "text/plain": [
       "  start_date            end_date  mlat  mlt   dBnorth1    dBeast1   dBnorth2  \\\n",
       "0 2011-05-16 2011-05-16 00:10:00  89.0  0.0  82.529999  60.080002  76.720001   \n",
       "1 2011-05-16 2011-05-16 00:10:00  88.0  0.0  80.660004  31.370001  76.199997   \n",
       "2 2011-05-16 2011-05-16 00:10:00  87.0  0.0  61.980000   1.050000  61.169998   \n",
       "3 2011-05-16 2011-05-16 00:10:00  86.0  0.0  32.880001 -19.570000  35.610001   \n",
       "4 2011-05-16 2011-05-16 00:10:00  85.0  0.0   9.180000 -25.520000  13.440000   \n",
       "\n",
       "     dBeast2    dBr    Jr  \n",
       "0  67.349998  -2.50 -0.21  \n",
       "1  41.020000  -2.55 -0.27  \n",
       "2  10.080000   4.62 -0.28  \n",
       "3 -13.990000  13.99 -0.25  \n",
       "4 -23.559999  22.02 -0.18  "
      ]
     },
     "execution_count": 5,
     "metadata": {},
     "output_type": "execute_result"
    }
   ],
   "source": [
    "dsXarr = xarray.open_dataset(ampFName)\n",
    "ampDF = dsXarr.to_dataframe()\n",
    "ampDF[\"start_date\"] = pandas.to_datetime( dict(year=ampDF.start_yr,\\\n",
    "                    month=ampDF.start_mo, day=ampDF.start_dy,\\\n",
    "                    hour=ampDF.start_hr, minute=ampDF.start_mt,\\\n",
    "                    second=ampDF.start_sc))\n",
    "ampDF[\"end_date\"] = pandas.to_datetime( dict(year=ampDF.end_yr,\\\n",
    "                    month=ampDF.end_mo, day=ampDF.end_dy,\\\n",
    "                    hour=ampDF.end_hr, minute=ampDF.end_mt,\\\n",
    "                    second=ampDF.end_sc))\n",
    "ampDF[\"mlat\"] = 90. - ampDF[\"colat\"]\n",
    "selCols = ['start_date', 'end_date', 'mlat',\\\n",
    "           'mlt', 'dBnorth1', 'dBeast1',\\\n",
    "       'dBnorth2', 'dBeast2', 'dBr', 'Jr']\n",
    "ampDF = ampDF[selCols].reset_index(drop=True)\n",
    "\n",
    "ampDF.head()"
   ]
  },
  {
   "cell_type": "code",
   "execution_count": 9,
   "metadata": {},
   "outputs": [
    {
     "data": {
      "text/plain": [
       "<matplotlib.axes._subplots.AxesSubplot at 0x7f09315f4c10>"
      ]
     },
     "execution_count": 9,
     "metadata": {},
     "output_type": "execute_result"
    },
    {
     "data": {
      "image/png": "[encoded data removed]",
      "text/plain": [
       "<matplotlib.figure.Figure at 0x7f0937103490>"
      ]
     },
     "metadata": {},
     "output_type": "display_data"
    }
   ],
   "source": [
    "selDF = ampDF[ (ampDF[\"start_date\"] == selDate) &\\\n",
    "                (ampDF[\"mlt\"] == 23.) ]\n",
    "selDF.plot( x=\"mlat\", y=\"Jr\" )"
   ]
  },
  {
   "cell_type": "code",
   "execution_count": null,
   "metadata": {
    "collapsed": true
   },
   "outputs": [],
   "source": []
  }
 ],
 "metadata": {
  "kernelspec": {
   "display_name": "Python 2",
   "language": "python",
   "name": "python2"
  },
  "language_info": {
   "codemirror_mode": {
    "name": "ipython",
    "version": 2
   },
   "file_extension": ".py",
   "mimetype": "text/x-python",
   "name": "python",
   "nbconvert_exporter": "python",
   "pygments_lexer": "ipython2",
   "version": "2.7.6"
  }
 },
 "nbformat": 4,
 "nbformat_minor": 1
}
