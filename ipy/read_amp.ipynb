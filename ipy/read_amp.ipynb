{
 "cells": [
  {
   "cell_type": "code",
   "execution_count": 1,
   "metadata": {},
   "outputs": [
    {
     "name": "stdout",
     "output_type": "stream",
     "text": [
      "Populating the interactive namespace from numpy and matplotlib\n"
     ]
    }
   ],
   "source": [
    "from scipy.io import netcdf\n",
    "import numpy\n",
    "import netCDF4\n",
    "import pandas\n",
    "import aacgmv2\n",
    "%pylab inline"
   ]
  },
  {
   "cell_type": "code",
   "execution_count": 2,
   "metadata": {
    "collapsed": true
   },
   "outputs": [],
   "source": [
    "ampFName = \"../data/20110516.0000.86400.120.north.grd.ncdf\""
   ]
  },
  {
   "cell_type": "code",
   "execution_count": 3,
   "metadata": {},
   "outputs": [
    {
     "data": {
      "text/plain": [
       "[u'nlon',\n",
       " u'nlat',\n",
       " u'start_yr',\n",
       " u'start_mo',\n",
       " u'start_dy',\n",
       " u'start_hr',\n",
       " u'start_mt',\n",
       " u'start_sc',\n",
       " u'end_yr',\n",
       " u'end_mo',\n",
       " u'end_dy',\n",
       " u'end_hr',\n",
       " u'end_mt',\n",
       " u'end_sc',\n",
       " u'colat',\n",
       " u'mlt',\n",
       " u'dBnorth1',\n",
       " u'dBeast1',\n",
       " u'dBnorth2',\n",
       " u'dBeast2',\n",
       " u'ddBnorth1',\n",
       " u'ddBeast1',\n",
       " u'ddBnorth2',\n",
       " u'ddBeast2',\n",
       " u'dBr',\n",
       " u'ddBr',\n",
       " u'Jr',\n",
       " u'dJr',\n",
       " u'dBprt']"
      ]
     },
     "execution_count": 3,
     "metadata": {},
     "output_type": "execute_result"
    }
   ],
   "source": [
    "currDataSet = netCDF4.Dataset(ampFName)\n",
    "currDataSet.variables.keys()"
   ]
  },
  {
   "cell_type": "code",
   "execution_count": 15,
   "metadata": {},
   "outputs": [
    {
     "data": {
      "text/plain": [
       "array([  0.,   0.,   0., ...,  23.,  23.,  23.], dtype=float32)"
      ]
     },
     "execution_count": 15,
     "metadata": {},
     "output_type": "execute_result"
    }
   ],
   "source": [
    "currDataSet.variables[\"mlt\"][0]"
   ]
  },
  {
   "cell_type": "code",
   "execution_count": 6,
   "metadata": {},
   "outputs": [
    {
     "data": {
      "text/plain": [
       "OrderedDict([(u'nlon', <type 'netCDF4._netCDF4.Variable'>\n",
       "              int32 nlon(block)\n",
       "                  description: Longitudinal array dimension\n",
       "              unlimited dimensions: block\n",
       "              current shape = (720,)\n",
       "              filling off), (u'nlat', <type 'netCDF4._netCDF4.Variable'>\n",
       "              int32 nlat(block)\n",
       "                  description: Latitudinal array dimension\n",
       "              unlimited dimensions: block\n",
       "              current shape = (720,)\n",
       "              filling off), (u'start_yr', <type 'netCDF4._netCDF4.Variable'>\n",
       "              int32 start_yr(block)\n",
       "                  description: Start Year\n",
       "              unlimited dimensions: block\n",
       "              current shape = (720,)\n",
       "              filling off), (u'start_mo', <type 'netCDF4._netCDF4.Variable'>\n",
       "              int32 start_mo(block)\n",
       "                  description: Start Month\n",
       "              unlimited dimensions: block\n",
       "              current shape = (720,)\n",
       "              filling off), (u'start_dy', <type 'netCDF4._netCDF4.Variable'>\n",
       "              int32 start_dy(block)\n",
       "                  description: Start Day\n",
       "              unlimited dimensions: block\n",
       "              current shape = (720,)\n",
       "              filling off), (u'start_hr', <type 'netCDF4._netCDF4.Variable'>\n",
       "              int32 start_hr(block)\n",
       "                  description: Start Hour\n",
       "              unlimited dimensions: block\n",
       "              current shape = (720,)\n",
       "              filling off), (u'start_mt', <type 'netCDF4._netCDF4.Variable'>\n",
       "              int32 start_mt(block)\n",
       "                  description: Start Minute\n",
       "              unlimited dimensions: block\n",
       "              current shape = (720,)\n",
       "              filling off), (u'start_sc', <type 'netCDF4._netCDF4.Variable'>\n",
       "              int32 start_sc(block)\n",
       "                  description: Start Second\n",
       "              unlimited dimensions: block\n",
       "              current shape = (720,)\n",
       "              filling off), (u'end_yr', <type 'netCDF4._netCDF4.Variable'>\n",
       "              int32 end_yr(block)\n",
       "                  description: End Year\n",
       "              unlimited dimensions: block\n",
       "              current shape = (720,)\n",
       "              filling off), (u'end_mo', <type 'netCDF4._netCDF4.Variable'>\n",
       "              int32 end_mo(block)\n",
       "                  description: End Month\n",
       "              unlimited dimensions: block\n",
       "              current shape = (720,)\n",
       "              filling off), (u'end_dy', <type 'netCDF4._netCDF4.Variable'>\n",
       "              int32 end_dy(block)\n",
       "                  description: End Day\n",
       "              unlimited dimensions: block\n",
       "              current shape = (720,)\n",
       "              filling off), (u'end_hr', <type 'netCDF4._netCDF4.Variable'>\n",
       "              int32 end_hr(block)\n",
       "                  description: End Hour\n",
       "              unlimited dimensions: block\n",
       "              current shape = (720,)\n",
       "              filling off), (u'end_mt', <type 'netCDF4._netCDF4.Variable'>\n",
       "              int32 end_mt(block)\n",
       "                  description: End Minute\n",
       "              unlimited dimensions: block\n",
       "              current shape = (720,)\n",
       "              filling off), (u'end_sc', <type 'netCDF4._netCDF4.Variable'>\n",
       "              int32 end_sc(block)\n",
       "                  description: End Second\n",
       "              unlimited dimensions: block\n",
       "              current shape = (720,)\n",
       "              filling off), (u'colat', <type 'netCDF4._netCDF4.Variable'>\n",
       "              float32 colat(block, vector)\n",
       "                  description: AACGM Colatitude [degrees]\n",
       "              unlimited dimensions: block\n",
       "              current shape = (720, 1200)\n",
       "              filling off), (u'mlt', <type 'netCDF4._netCDF4.Variable'>\n",
       "              float32 mlt(block, vector)\n",
       "                  description: AACGM Magnetic Local Time [h]\n",
       "              unlimited dimensions: block\n",
       "              current shape = (720, 1200)\n",
       "              filling off), (u'dBnorth1', <type 'netCDF4._netCDF4.Variable'>\n",
       "              float32 dBnorth1(block, vector)\n",
       "                  description: Magnetic perturbation parallel to the AACGM northward direction [nT]\n",
       "              unlimited dimensions: block\n",
       "              current shape = (720, 1200)\n",
       "              filling off), (u'dBeast1', <type 'netCDF4._netCDF4.Variable'>\n",
       "              float32 dBeast1(block, vector)\n",
       "                  description: Magnetic perturbation perpendicular to the AACGM northward direction [nT]\n",
       "              unlimited dimensions: block\n",
       "              current shape = (720, 1200)\n",
       "              filling off), (u'dBnorth2', <type 'netCDF4._netCDF4.Variable'>\n",
       "              float32 dBnorth2(block, vector)\n",
       "                  description: Magnetic perturbation perpendicular to the AACGM eastward direction [nT]\n",
       "              unlimited dimensions: block\n",
       "              current shape = (720, 1200)\n",
       "              filling off), (u'dBeast2', <type 'netCDF4._netCDF4.Variable'>\n",
       "              float32 dBeast2(block, vector)\n",
       "                  description: Magnetic perturbation parallel to the AACGM eastward direction [nT]\n",
       "              unlimited dimensions: block\n",
       "              current shape = (720, 1200)\n",
       "              filling off), (u'ddBnorth1', <type 'netCDF4._netCDF4.Variable'>\n",
       "              float32 ddBnorth1(block, vector)\n",
       "                  description: Magnetic perturbation delta parallel to the AACGM northward direction [nT]\n",
       "              unlimited dimensions: block\n",
       "              current shape = (720, 1200)\n",
       "              filling off), (u'ddBeast1', <type 'netCDF4._netCDF4.Variable'>\n",
       "              float32 ddBeast1(block, vector)\n",
       "                  description: Magnetic perturbation delta perpendicular to the AACGM northward direction [nT]\n",
       "              unlimited dimensions: block\n",
       "              current shape = (720, 1200)\n",
       "              filling off), (u'ddBnorth2', <type 'netCDF4._netCDF4.Variable'>\n",
       "              float32 ddBnorth2(block, vector)\n",
       "                  description: Magnetic perturbation delta perpendicular to the AACGM eastward direction [nT]\n",
       "              unlimited dimensions: block\n",
       "              current shape = (720, 1200)\n",
       "              filling off), (u'ddBeast2', <type 'netCDF4._netCDF4.Variable'>\n",
       "              float32 ddBeast2(block, vector)\n",
       "                  description: Magnetic perturbation delta parallel to the AACGM eastward direction [nT]\n",
       "              unlimited dimensions: block\n",
       "              current shape = (720, 1200)\n",
       "              filling off), (u'dBr', <type 'netCDF4._netCDF4.Variable'>\n",
       "              float32 dBr(block, vector)\n",
       "                  description: Magnetic perturbation parallel to the AACGM radial direction [nT]\n",
       "              unlimited dimensions: block\n",
       "              current shape = (720, 1200)\n",
       "              filling off), (u'ddBr', <type 'netCDF4._netCDF4.Variable'>\n",
       "              float32 ddBr(block, vector)\n",
       "                  description: Magnetic perturbation delta parallel to the AACGM radial direction [nT]\n",
       "              unlimited dimensions: block\n",
       "              current shape = (720, 1200)\n",
       "              filling off), (u'Jr', <type 'netCDF4._netCDF4.Variable'>\n",
       "              float32 Jr(block, vector)\n",
       "                  description: Radial current density [muA/m^2]\n",
       "              unlimited dimensions: block\n",
       "              current shape = (720, 1200)\n",
       "              filling off), (u'dJr', <type 'netCDF4._netCDF4.Variable'>\n",
       "              float32 dJr(block, vector)\n",
       "                  description: Radial current density delta [muA/m^2]\n",
       "              unlimited dimensions: block\n",
       "              current shape = (720, 1200)\n",
       "              filling off), (u'dBprt', <type 'netCDF4._netCDF4.Variable'>\n",
       "              float32 dBprt(block, vector)\n",
       "                  description: Data quality flag\n",
       "              unlimited dimensions: block\n",
       "              current shape = (720, 1200)\n",
       "              filling off)])"
      ]
     },
     "execution_count": 6,
     "metadata": {},
     "output_type": "execute_result"
    }
   ],
   "source": [
    "currDataSet.variables"
   ]
  },
  {
   "cell_type": "code",
   "execution_count": null,
   "metadata": {
    "collapsed": true
   },
   "outputs": [],
   "source": []
  }
 ],
 "metadata": {
  "kernelspec": {
   "display_name": "Python 2",
   "language": "python",
   "name": "python2"
  },
  "language_info": {
   "codemirror_mode": {
    "name": "ipython",
    "version": 2
   },
   "file_extension": ".py",
   "mimetype": "text/x-python",
   "name": "python",
   "nbconvert_exporter": "python",
   "pygments_lexer": "ipython2",
   "version": "2.7.6"
  }
 },
 "nbformat": 4,
 "nbformat_minor": 1
}
