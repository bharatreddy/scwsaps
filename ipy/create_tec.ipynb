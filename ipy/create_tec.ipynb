{
 "cells": [
  {
   "cell_type": "code",
   "execution_count": 1,
   "metadata": {
    "collapsed": true
   },
   "outputs": [],
   "source": [
    "import pandas\n",
    "import datetime\n",
    "import feather\n",
    "import numpy\n",
    "from aacgmv2 import convert_mlt"
   ]
  },
  {
   "cell_type": "code",
   "execution_count": 2,
   "metadata": {
    "collapsed": true
   },
   "outputs": [],
   "source": [
    "eventDate = datetime.datetime(2011,7,5)\n",
    "dateLimList = [ datetime.datetime(2011,7,5,3,0),\\\n",
    "                 datetime.datetime(2011,7,5,7,0) ]"
   ]
  },
  {
   "cell_type": "code",
   "execution_count": 3,
   "metadata": {
    "collapsed": true
   },
   "outputs": [],
   "source": [
    "def convert_to_datetime(row):\n",
    "    currDateStr = str( int( row[\"dateStr\"] ) )\n",
    "#     return currDateStr\n",
    "    if row[\"timeStr\"] < 10:\n",
    "        currTimeStr = \"000\" + str( int( row[\"timeStr\"] ) )\n",
    "    elif row[\"timeStr\"] < 100:\n",
    "        currTimeStr = \"00\" + str( int( row[\"timeStr\"] ) )\n",
    "    elif row[\"timeStr\"] < 1000:\n",
    "        currTimeStr = \"0\" + str( int( row[\"timeStr\"] ) )\n",
    "    else:\n",
    "        currTimeStr = str( int( row[\"timeStr\"] ) )\n",
    "    return datetime.datetime.strptime( currDateStr\\\n",
    "                    + \":\" + currTimeStr, \"%Y%m%d:%H%M\" )"
   ]
  },
  {
   "cell_type": "code",
   "execution_count": 4,
   "metadata": {},
   "outputs": [
    {
     "data": {
      "text/html": [
       "<div>\n",
       "<style scoped>\n",
       "    .dataframe tbody tr th:only-of-type {\n",
       "        vertical-align: middle;\n",
       "    }\n",
       "\n",
       "    .dataframe tbody tr th {\n",
       "        vertical-align: top;\n",
       "    }\n",
       "\n",
       "    .dataframe thead th {\n",
       "        text-align: right;\n",
       "    }\n",
       "</style>\n",
       "<table border=\"1\" class=\"dataframe\">\n",
       "  <thead>\n",
       "    <tr style=\"text-align: right;\">\n",
       "      <th></th>\n",
       "      <th>dateStr</th>\n",
       "      <th>timeStr</th>\n",
       "      <th>Mlat</th>\n",
       "      <th>Mlon</th>\n",
       "      <th>med_tec</th>\n",
       "      <th>dlat</th>\n",
       "      <th>dlon</th>\n",
       "      <th>date</th>\n",
       "      <th>MLT</th>\n",
       "    </tr>\n",
       "  </thead>\n",
       "  <tbody>\n",
       "    <tr>\n",
       "      <th>190778</th>\n",
       "      <td>20110705</td>\n",
       "      <td>300</td>\n",
       "      <td>11.0</td>\n",
       "      <td>0.0</td>\n",
       "      <td>5.4</td>\n",
       "      <td>1.0</td>\n",
       "      <td>2.0</td>\n",
       "      <td>2011-07-05 03:00:00</td>\n",
       "      <td>22.205744</td>\n",
       "    </tr>\n",
       "    <tr>\n",
       "      <th>190779</th>\n",
       "      <td>20110705</td>\n",
       "      <td>300</td>\n",
       "      <td>11.0</td>\n",
       "      <td>2.0</td>\n",
       "      <td>10.2</td>\n",
       "      <td>1.0</td>\n",
       "      <td>2.0</td>\n",
       "      <td>2011-07-05 03:00:00</td>\n",
       "      <td>22.339078</td>\n",
       "    </tr>\n",
       "    <tr>\n",
       "      <th>190780</th>\n",
       "      <td>20110705</td>\n",
       "      <td>300</td>\n",
       "      <td>11.0</td>\n",
       "      <td>4.0</td>\n",
       "      <td>8.9</td>\n",
       "      <td>1.0</td>\n",
       "      <td>2.0</td>\n",
       "      <td>2011-07-05 03:00:00</td>\n",
       "      <td>22.472411</td>\n",
       "    </tr>\n",
       "    <tr>\n",
       "      <th>190781</th>\n",
       "      <td>20110705</td>\n",
       "      <td>300</td>\n",
       "      <td>11.0</td>\n",
       "      <td>6.0</td>\n",
       "      <td>7.5</td>\n",
       "      <td>1.0</td>\n",
       "      <td>2.0</td>\n",
       "      <td>2011-07-05 03:00:00</td>\n",
       "      <td>22.605744</td>\n",
       "    </tr>\n",
       "    <tr>\n",
       "      <th>190782</th>\n",
       "      <td>20110705</td>\n",
       "      <td>300</td>\n",
       "      <td>11.0</td>\n",
       "      <td>8.0</td>\n",
       "      <td>7.4</td>\n",
       "      <td>1.0</td>\n",
       "      <td>2.0</td>\n",
       "      <td>2011-07-05 03:00:00</td>\n",
       "      <td>22.739078</td>\n",
       "    </tr>\n",
       "  </tbody>\n",
       "</table>\n",
       "</div>"
      ],
      "text/plain": [
       "         dateStr  timeStr  Mlat  Mlon  med_tec  dlat  dlon  \\\n",
       "190778  20110705      300  11.0   0.0      5.4   1.0   2.0   \n",
       "190779  20110705      300  11.0   2.0     10.2   1.0   2.0   \n",
       "190780  20110705      300  11.0   4.0      8.9   1.0   2.0   \n",
       "190781  20110705      300  11.0   6.0      7.5   1.0   2.0   \n",
       "190782  20110705      300  11.0   8.0      7.4   1.0   2.0   \n",
       "\n",
       "                      date        MLT  \n",
       "190778 2011-07-05 03:00:00  22.205744  \n",
       "190779 2011-07-05 03:00:00  22.339078  \n",
       "190780 2011-07-05 03:00:00  22.472411  \n",
       "190781 2011-07-05 03:00:00  22.605744  \n",
       "190782 2011-07-05 03:00:00  22.739078  "
      ]
     },
     "execution_count": 4,
     "metadata": {},
     "output_type": "execute_result"
    }
   ],
   "source": [
    "inpColList = [ \"dateStr\", \"timeStr\", \"Mlat\",\\\n",
    "              \"Mlon\", \"med_tec\", \"dlat\", \"dlon\" ]\n",
    "inpFile = \"../data/tec-medFilt-\" + eventDate.strftime(\"%Y%m%d\") + \".txt\"\n",
    "medFiltTECDF = pandas.read_csv(inpFile, delim_whitespace=True,\\\n",
    "                                    header=None, names=inpColList)\n",
    "medFiltTECDF[\"date\"] = medFiltTECDF.apply( convert_to_datetime, axis=1 )\n",
    "medFiltTECDF = medFiltTECDF[ (medFiltTECDF[\"date\"] >= dateLimList[0]) &\\\n",
    "                    (medFiltTECDF[\"date\"] <= dateLimList[1] ) ]\n",
    "medFiltTECDF[\"MLT\"] = [ convert_mlt( mlon, ts , m2a=False ) \\\n",
    "                       for (mlon,ts) in zip(medFiltTECDF[\"Mlon\"],\\\n",
    "                                            medFiltTECDF[\"date\"]) ]\n",
    "\n",
    "feather.write_dataframe( medFiltTECDF, \"../data/tec-mf-\" +\\\n",
    "                        dateLimList[0].strftime(\"%Y%m%d\") + \".feather\" )\n",
    "medFiltTECDF.head()"
   ]
  },
  {
   "cell_type": "code",
   "execution_count": null,
   "metadata": {
    "collapsed": true
   },
   "outputs": [],
   "source": []
  }
 ],
 "metadata": {
  "kernelspec": {
   "display_name": "Python 2",
   "language": "python",
   "name": "python2"
  },
  "language_info": {
   "codemirror_mode": {
    "name": "ipython",
    "version": 2
   },
   "file_extension": ".py",
   "mimetype": "text/x-python",
   "name": "python",
   "nbconvert_exporter": "python",
   "pygments_lexer": "ipython2",
   "version": "2.7.6"
  }
 },
 "nbformat": 4,
 "nbformat_minor": 2
}
