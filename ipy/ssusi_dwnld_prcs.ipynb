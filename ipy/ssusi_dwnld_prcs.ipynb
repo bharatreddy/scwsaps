{
 "cells": [
  {
   "cell_type": "code",
   "execution_count": 1,
   "metadata": {
    "collapsed": true
   },
   "outputs": [],
   "source": [
    "import os\n",
    "import datetime\n",
    "from imagers.ssusi import dwnld_ssusi,read_ssusi"
   ]
  },
  {
   "cell_type": "code",
   "execution_count": 7,
   "metadata": {
    "collapsed": true
   },
   "outputs": [],
   "source": [
    "currDate = datetime.datetime( 2016, 7, 25 )#datetime.datetime( 2011, 7, 5 )\n",
    "endDate = datetime.datetime( 2016, 7, 25 )#datetime.datetime( 2011, 7, 5 )"
   ]
  },
  {
   "cell_type": "code",
   "execution_count": 3,
   "metadata": {},
   "outputs": [
    {
     "name": "stdout",
     "output_type": "stream",
     "text": [
      "currently downloading files for -->  2016-07-25\n"
     ]
    },
    {
     "name": "stderr",
     "output_type": "stream",
     "text": [
      "/usr/local/lib/python2.7/dist-packages/urllib3/connectionpool.py:852: InsecureRequestWarning: Unverified HTTPS request is being made. Adding certificate verification is strongly advised. See: https://urllib3.readthedocs.io/en/latest/advanced-usage.html#ssl-warnings\n",
      "  InsecureRequestWarning)\n"
     ]
    },
    {
     "name": "stdout",
     "output_type": "stream",
     "text": [
      "currently downloading--> http://ssusi.jhuapl.edu/data/f18/apl/sdr//2016/207//PS.APL_V0116S024CB0005_SC.U_DI.A_GP.F18-SSUSI_PA.APL-SDR-DISK_DD.20160725_SN.34908-00_DF.NC\n"
     ]
    },
    {
     "name": "stderr",
     "output_type": "stream",
     "text": [
      "/usr/local/lib/python2.7/dist-packages/urllib3/connectionpool.py:852: InsecureRequestWarning: Unverified HTTPS request is being made. Adding certificate verification is strongly advised. See: https://urllib3.readthedocs.io/en/latest/advanced-usage.html#ssl-warnings\n",
      "  InsecureRequestWarning)\n"
     ]
    },
    {
     "name": "stdout",
     "output_type": "stream",
     "text": [
      "currently downloading--> http://ssusi.jhuapl.edu/data/f18/apl/sdr//2016/207//PS.APL_V0116S024CB0005_SC.U_DI.A_GP.F18-SSUSI_PA.APL-SDR-DISK_DD.20160725_SN.34907-00_DF.NC\n"
     ]
    },
    {
     "name": "stderr",
     "output_type": "stream",
     "text": [
      "/usr/local/lib/python2.7/dist-packages/urllib3/connectionpool.py:852: InsecureRequestWarning: Unverified HTTPS request is being made. Adding certificate verification is strongly advised. See: https://urllib3.readthedocs.io/en/latest/advanced-usage.html#ssl-warnings\n",
      "  InsecureRequestWarning)\n"
     ]
    },
    {
     "name": "stdout",
     "output_type": "stream",
     "text": [
      "currently downloading--> http://ssusi.jhuapl.edu/data/f18/apl/sdr//2016/207//PS.APL_V0116S024CB0005_SC.U_DI.A_GP.F18-SSUSI_PA.APL-SDR-DISK_DD.20160725_SN.34906-00_DF.NC\n"
     ]
    },
    {
     "name": "stderr",
     "output_type": "stream",
     "text": [
      "/usr/local/lib/python2.7/dist-packages/urllib3/connectionpool.py:852: InsecureRequestWarning: Unverified HTTPS request is being made. Adding certificate verification is strongly advised. See: https://urllib3.readthedocs.io/en/latest/advanced-usage.html#ssl-warnings\n",
      "  InsecureRequestWarning)\n"
     ]
    },
    {
     "name": "stdout",
     "output_type": "stream",
     "text": [
      "currently downloading--> http://ssusi.jhuapl.edu/data/f18/apl/sdr//2016/207//PS.APL_V0116S024CB0005_SC.U_DI.A_GP.F18-SSUSI_PA.APL-SDR-DISK_DD.20160725_SN.34905-00_DF.NC\n"
     ]
    },
    {
     "name": "stderr",
     "output_type": "stream",
     "text": [
      "/usr/local/lib/python2.7/dist-packages/urllib3/connectionpool.py:852: InsecureRequestWarning: Unverified HTTPS request is being made. Adding certificate verification is strongly advised. See: https://urllib3.readthedocs.io/en/latest/advanced-usage.html#ssl-warnings\n",
      "  InsecureRequestWarning)\n"
     ]
    },
    {
     "name": "stdout",
     "output_type": "stream",
     "text": [
      "currently downloading--> http://ssusi.jhuapl.edu/data/f18/apl/sdr//2016/207//PS.APL_V0116S024CB0005_SC.U_DI.A_GP.F18-SSUSI_PA.APL-SDR-DISK_DD.20160725_SN.34904-00_DF.NC\n"
     ]
    },
    {
     "name": "stderr",
     "output_type": "stream",
     "text": [
      "/usr/local/lib/python2.7/dist-packages/urllib3/connectionpool.py:852: InsecureRequestWarning: Unverified HTTPS request is being made. Adding certificate verification is strongly advised. See: https://urllib3.readthedocs.io/en/latest/advanced-usage.html#ssl-warnings\n",
      "  InsecureRequestWarning)\n"
     ]
    },
    {
     "name": "stdout",
     "output_type": "stream",
     "text": [
      "currently downloading--> http://ssusi.jhuapl.edu/data/f18/apl/sdr//2016/207//PS.APL_V0116S024CB0005_SC.U_DI.A_GP.F18-SSUSI_PA.APL-SDR-DISK_DD.20160725_SN.34903-00_DF.NC\n"
     ]
    },
    {
     "name": "stderr",
     "output_type": "stream",
     "text": [
      "/usr/local/lib/python2.7/dist-packages/urllib3/connectionpool.py:852: InsecureRequestWarning: Unverified HTTPS request is being made. Adding certificate verification is strongly advised. See: https://urllib3.readthedocs.io/en/latest/advanced-usage.html#ssl-warnings\n",
      "  InsecureRequestWarning)\n"
     ]
    },
    {
     "name": "stdout",
     "output_type": "stream",
     "text": [
      "currently downloading--> http://ssusi.jhuapl.edu/data/f18/apl/sdr//2016/207//PS.APL_V0116S024CB0005_SC.U_DI.A_GP.F18-SSUSI_PA.APL-SDR-DISK_DD.20160725_SN.34902-00_DF.NC\n"
     ]
    },
    {
     "name": "stderr",
     "output_type": "stream",
     "text": [
      "/usr/local/lib/python2.7/dist-packages/urllib3/connectionpool.py:852: InsecureRequestWarning: Unverified HTTPS request is being made. Adding certificate verification is strongly advised. See: https://urllib3.readthedocs.io/en/latest/advanced-usage.html#ssl-warnings\n",
      "  InsecureRequestWarning)\n"
     ]
    },
    {
     "name": "stdout",
     "output_type": "stream",
     "text": [
      "currently downloading--> http://ssusi.jhuapl.edu/data/f18/apl/sdr//2016/207//PS.APL_V0116S024CB0005_SC.U_DI.A_GP.F18-SSUSI_PA.APL-SDR-DISK_DD.20160725_SN.34901-00_DF.NC\n"
     ]
    },
    {
     "name": "stderr",
     "output_type": "stream",
     "text": [
      "/usr/local/lib/python2.7/dist-packages/urllib3/connectionpool.py:852: InsecureRequestWarning: Unverified HTTPS request is being made. Adding certificate verification is strongly advised. See: https://urllib3.readthedocs.io/en/latest/advanced-usage.html#ssl-warnings\n",
      "  InsecureRequestWarning)\n"
     ]
    },
    {
     "name": "stdout",
     "output_type": "stream",
     "text": [
      "currently downloading--> http://ssusi.jhuapl.edu/data/f18/apl/sdr//2016/207//PS.APL_V0116S024CB0005_SC.U_DI.A_GP.F18-SSUSI_PA.APL-SDR-DISK_DD.20160725_SN.34900-00_DF.NC\n"
     ]
    },
    {
     "name": "stderr",
     "output_type": "stream",
     "text": [
      "/usr/local/lib/python2.7/dist-packages/urllib3/connectionpool.py:852: InsecureRequestWarning: Unverified HTTPS request is being made. Adding certificate verification is strongly advised. See: https://urllib3.readthedocs.io/en/latest/advanced-usage.html#ssl-warnings\n",
      "  InsecureRequestWarning)\n"
     ]
    },
    {
     "name": "stdout",
     "output_type": "stream",
     "text": [
      "currently downloading--> http://ssusi.jhuapl.edu/data/f18/apl/sdr//2016/207//PS.APL_V0116S024CB0005_SC.U_DI.A_GP.F18-SSUSI_PA.APL-SDR-DISK_DD.20160725_SN.34899-00_DF.NC\n"
     ]
    },
    {
     "name": "stderr",
     "output_type": "stream",
     "text": [
      "/usr/local/lib/python2.7/dist-packages/urllib3/connectionpool.py:852: InsecureRequestWarning: Unverified HTTPS request is being made. Adding certificate verification is strongly advised. See: https://urllib3.readthedocs.io/en/latest/advanced-usage.html#ssl-warnings\n",
      "  InsecureRequestWarning)\n"
     ]
    },
    {
     "name": "stdout",
     "output_type": "stream",
     "text": [
      "currently downloading--> http://ssusi.jhuapl.edu/data/f18/apl/sdr//2016/207//PS.APL_V0116S024CB0005_SC.U_DI.A_GP.F18-SSUSI_PA.APL-SDR-DISK_DD.20160725_SN.34898-00_DF.NC\n"
     ]
    },
    {
     "name": "stderr",
     "output_type": "stream",
     "text": [
      "/usr/local/lib/python2.7/dist-packages/urllib3/connectionpool.py:852: InsecureRequestWarning: Unverified HTTPS request is being made. Adding certificate verification is strongly advised. See: https://urllib3.readthedocs.io/en/latest/advanced-usage.html#ssl-warnings\n",
      "  InsecureRequestWarning)\n"
     ]
    },
    {
     "name": "stdout",
     "output_type": "stream",
     "text": [
      "currently downloading--> http://ssusi.jhuapl.edu/data/f18/apl/sdr//2016/207//PS.APL_V0116S024CB0005_SC.U_DI.A_GP.F18-SSUSI_PA.APL-SDR-DISK_DD.20160725_SN.34897-00_DF.NC\n"
     ]
    },
    {
     "name": "stderr",
     "output_type": "stream",
     "text": [
      "/usr/local/lib/python2.7/dist-packages/urllib3/connectionpool.py:852: InsecureRequestWarning: Unverified HTTPS request is being made. Adding certificate verification is strongly advised. See: https://urllib3.readthedocs.io/en/latest/advanced-usage.html#ssl-warnings\n",
      "  InsecureRequestWarning)\n"
     ]
    },
    {
     "name": "stdout",
     "output_type": "stream",
     "text": [
      "currently downloading--> http://ssusi.jhuapl.edu/data/f18/apl/sdr//2016/207//PS.APL_V0116S024CB0005_SC.U_DI.A_GP.F18-SSUSI_PA.APL-SDR-DISK_DD.20160725_SN.34896-00_DF.NC\n"
     ]
    },
    {
     "name": "stderr",
     "output_type": "stream",
     "text": [
      "/usr/local/lib/python2.7/dist-packages/urllib3/connectionpool.py:852: InsecureRequestWarning: Unverified HTTPS request is being made. Adding certificate verification is strongly advised. See: https://urllib3.readthedocs.io/en/latest/advanced-usage.html#ssl-warnings\n",
      "  InsecureRequestWarning)\n"
     ]
    },
    {
     "name": "stdout",
     "output_type": "stream",
     "text": [
      "currently downloading--> http://ssusi.jhuapl.edu/data/f18/apl/sdr//2016/207//PS.APL_V0116S024CB0005_SC.U_DI.A_GP.F18-SSUSI_PA.APL-SDR-DISK_DD.20160725_SN.34895-00_DF.NC\n"
     ]
    },
    {
     "name": "stderr",
     "output_type": "stream",
     "text": [
      "/usr/local/lib/python2.7/dist-packages/urllib3/connectionpool.py:852: InsecureRequestWarning: Unverified HTTPS request is being made. Adding certificate verification is strongly advised. See: https://urllib3.readthedocs.io/en/latest/advanced-usage.html#ssl-warnings\n",
      "  InsecureRequestWarning)\n",
      "/usr/local/lib/python2.7/dist-packages/urllib3/connectionpool.py:852: InsecureRequestWarning: Unverified HTTPS request is being made. Adding certificate verification is strongly advised. See: https://urllib3.readthedocs.io/en/latest/advanced-usage.html#ssl-warnings\n",
      "  InsecureRequestWarning)\n"
     ]
    },
    {
     "name": "stdout",
     "output_type": "stream",
     "text": [
      "currently downloading--> http://ssusi.jhuapl.edu/data/f17/apl/sdr//2016/207//PS.APL_V0116S024CE0008_SC.U_DI.A_GP.F17-SSUSI_PA.APL-SDR-DISK_DD.20160725_SN.50169-00_DF.NC\n"
     ]
    },
    {
     "name": "stderr",
     "output_type": "stream",
     "text": [
      "/usr/local/lib/python2.7/dist-packages/urllib3/connectionpool.py:852: InsecureRequestWarning: Unverified HTTPS request is being made. Adding certificate verification is strongly advised. See: https://urllib3.readthedocs.io/en/latest/advanced-usage.html#ssl-warnings\n",
      "  InsecureRequestWarning)\n"
     ]
    },
    {
     "name": "stdout",
     "output_type": "stream",
     "text": [
      "currently downloading--> http://ssusi.jhuapl.edu/data/f17/apl/sdr//2016/207//PS.APL_V0116S024CE0008_SC.U_DI.A_GP.F17-SSUSI_PA.APL-SDR-DISK_DD.20160725_SN.50168-00_DF.NC\n"
     ]
    },
    {
     "name": "stderr",
     "output_type": "stream",
     "text": [
      "/usr/local/lib/python2.7/dist-packages/urllib3/connectionpool.py:852: InsecureRequestWarning: Unverified HTTPS request is being made. Adding certificate verification is strongly advised. See: https://urllib3.readthedocs.io/en/latest/advanced-usage.html#ssl-warnings\n",
      "  InsecureRequestWarning)\n"
     ]
    },
    {
     "name": "stdout",
     "output_type": "stream",
     "text": [
      "currently downloading--> http://ssusi.jhuapl.edu/data/f17/apl/sdr//2016/207//PS.APL_V0116S024CE0008_SC.U_DI.A_GP.F17-SSUSI_PA.APL-SDR-DISK_DD.20160725_SN.50167-00_DF.NC\n"
     ]
    },
    {
     "name": "stderr",
     "output_type": "stream",
     "text": [
      "/usr/local/lib/python2.7/dist-packages/urllib3/connectionpool.py:852: InsecureRequestWarning: Unverified HTTPS request is being made. Adding certificate verification is strongly advised. See: https://urllib3.readthedocs.io/en/latest/advanced-usage.html#ssl-warnings\n",
      "  InsecureRequestWarning)\n"
     ]
    },
    {
     "name": "stdout",
     "output_type": "stream",
     "text": [
      "currently downloading--> http://ssusi.jhuapl.edu/data/f17/apl/sdr//2016/207//PS.APL_V0116S024CE0008_SC.U_DI.A_GP.F17-SSUSI_PA.APL-SDR-DISK_DD.20160725_SN.50166-00_DF.NC\n"
     ]
    },
    {
     "name": "stderr",
     "output_type": "stream",
     "text": [
      "/usr/local/lib/python2.7/dist-packages/urllib3/connectionpool.py:852: InsecureRequestWarning: Unverified HTTPS request is being made. Adding certificate verification is strongly advised. See: https://urllib3.readthedocs.io/en/latest/advanced-usage.html#ssl-warnings\n",
      "  InsecureRequestWarning)\n"
     ]
    },
    {
     "name": "stdout",
     "output_type": "stream",
     "text": [
      "currently downloading--> http://ssusi.jhuapl.edu/data/f17/apl/sdr//2016/207//PS.APL_V0116S024CE0008_SC.U_DI.A_GP.F17-SSUSI_PA.APL-SDR-DISK_DD.20160725_SN.50165-00_DF.NC\n"
     ]
    },
    {
     "name": "stderr",
     "output_type": "stream",
     "text": [
      "/usr/local/lib/python2.7/dist-packages/urllib3/connectionpool.py:852: InsecureRequestWarning: Unverified HTTPS request is being made. Adding certificate verification is strongly advised. See: https://urllib3.readthedocs.io/en/latest/advanced-usage.html#ssl-warnings\n",
      "  InsecureRequestWarning)\n"
     ]
    },
    {
     "name": "stdout",
     "output_type": "stream",
     "text": [
      "currently downloading--> http://ssusi.jhuapl.edu/data/f17/apl/sdr//2016/207//PS.APL_V0116S024CE0008_SC.U_DI.A_GP.F17-SSUSI_PA.APL-SDR-DISK_DD.20160725_SN.50164-00_DF.NC\n"
     ]
    },
    {
     "name": "stderr",
     "output_type": "stream",
     "text": [
      "/usr/local/lib/python2.7/dist-packages/urllib3/connectionpool.py:852: InsecureRequestWarning: Unverified HTTPS request is being made. Adding certificate verification is strongly advised. See: https://urllib3.readthedocs.io/en/latest/advanced-usage.html#ssl-warnings\n",
      "  InsecureRequestWarning)\n"
     ]
    },
    {
     "name": "stdout",
     "output_type": "stream",
     "text": [
      "currently downloading--> http://ssusi.jhuapl.edu/data/f17/apl/sdr//2016/207//PS.APL_V0116S024CE0008_SC.U_DI.A_GP.F17-SSUSI_PA.APL-SDR-DISK_DD.20160725_SN.50163-00_DF.NC\n"
     ]
    },
    {
     "name": "stderr",
     "output_type": "stream",
     "text": [
      "/usr/local/lib/python2.7/dist-packages/urllib3/connectionpool.py:852: InsecureRequestWarning: Unverified HTTPS request is being made. Adding certificate verification is strongly advised. See: https://urllib3.readthedocs.io/en/latest/advanced-usage.html#ssl-warnings\n",
      "  InsecureRequestWarning)\n"
     ]
    },
    {
     "name": "stdout",
     "output_type": "stream",
     "text": [
      "currently downloading--> http://ssusi.jhuapl.edu/data/f17/apl/sdr//2016/207//PS.APL_V0116S024CE0008_SC.U_DI.A_GP.F17-SSUSI_PA.APL-SDR-DISK_DD.20160725_SN.50162-00_DF.NC\n"
     ]
    },
    {
     "name": "stderr",
     "output_type": "stream",
     "text": [
      "/usr/local/lib/python2.7/dist-packages/urllib3/connectionpool.py:852: InsecureRequestWarning: Unverified HTTPS request is being made. Adding certificate verification is strongly advised. See: https://urllib3.readthedocs.io/en/latest/advanced-usage.html#ssl-warnings\n",
      "  InsecureRequestWarning)\n"
     ]
    },
    {
     "name": "stdout",
     "output_type": "stream",
     "text": [
      "currently downloading--> http://ssusi.jhuapl.edu/data/f17/apl/sdr//2016/207//PS.APL_V0116S024CE0008_SC.U_DI.A_GP.F17-SSUSI_PA.APL-SDR-DISK_DD.20160725_SN.50161-00_DF.NC\n"
     ]
    },
    {
     "name": "stderr",
     "output_type": "stream",
     "text": [
      "/usr/local/lib/python2.7/dist-packages/urllib3/connectionpool.py:852: InsecureRequestWarning: Unverified HTTPS request is being made. Adding certificate verification is strongly advised. See: https://urllib3.readthedocs.io/en/latest/advanced-usage.html#ssl-warnings\n",
      "  InsecureRequestWarning)\n"
     ]
    },
    {
     "name": "stdout",
     "output_type": "stream",
     "text": [
      "currently downloading--> http://ssusi.jhuapl.edu/data/f17/apl/sdr//2016/207//PS.APL_V0116S024CE0008_SC.U_DI.A_GP.F17-SSUSI_PA.APL-SDR-DISK_DD.20160725_SN.50160-00_DF.NC\n"
     ]
    },
    {
     "name": "stderr",
     "output_type": "stream",
     "text": [
      "/usr/local/lib/python2.7/dist-packages/urllib3/connectionpool.py:852: InsecureRequestWarning: Unverified HTTPS request is being made. Adding certificate verification is strongly advised. See: https://urllib3.readthedocs.io/en/latest/advanced-usage.html#ssl-warnings\n",
      "  InsecureRequestWarning)\n"
     ]
    },
    {
     "name": "stdout",
     "output_type": "stream",
     "text": [
      "currently downloading--> http://ssusi.jhuapl.edu/data/f17/apl/sdr//2016/207//PS.APL_V0116S024CE0008_SC.U_DI.A_GP.F17-SSUSI_PA.APL-SDR-DISK_DD.20160725_SN.50159-00_DF.NC\n"
     ]
    },
    {
     "name": "stderr",
     "output_type": "stream",
     "text": [
      "/usr/local/lib/python2.7/dist-packages/urllib3/connectionpool.py:852: InsecureRequestWarning: Unverified HTTPS request is being made. Adding certificate verification is strongly advised. See: https://urllib3.readthedocs.io/en/latest/advanced-usage.html#ssl-warnings\n",
      "  InsecureRequestWarning)\n"
     ]
    },
    {
     "name": "stdout",
     "output_type": "stream",
     "text": [
      "currently downloading--> http://ssusi.jhuapl.edu/data/f17/apl/sdr//2016/207//PS.APL_V0116S024CE0008_SC.U_DI.A_GP.F17-SSUSI_PA.APL-SDR-DISK_DD.20160725_SN.50158-01_DF.NC\n"
     ]
    },
    {
     "name": "stderr",
     "output_type": "stream",
     "text": [
      "/usr/local/lib/python2.7/dist-packages/urllib3/connectionpool.py:852: InsecureRequestWarning: Unverified HTTPS request is being made. Adding certificate verification is strongly advised. See: https://urllib3.readthedocs.io/en/latest/advanced-usage.html#ssl-warnings\n",
      "  InsecureRequestWarning)\n"
     ]
    },
    {
     "name": "stdout",
     "output_type": "stream",
     "text": [
      "currently downloading--> http://ssusi.jhuapl.edu/data/f17/apl/sdr//2016/207//PS.APL_V0116S024CE0008_SC.U_DI.A_GP.F17-SSUSI_PA.APL-SDR-DISK_DD.20160725_SN.50157-02_DF.NC\n"
     ]
    },
    {
     "name": "stderr",
     "output_type": "stream",
     "text": [
      "/usr/local/lib/python2.7/dist-packages/urllib3/connectionpool.py:852: InsecureRequestWarning: Unverified HTTPS request is being made. Adding certificate verification is strongly advised. See: https://urllib3.readthedocs.io/en/latest/advanced-usage.html#ssl-warnings\n",
      "  InsecureRequestWarning)\n"
     ]
    },
    {
     "name": "stdout",
     "output_type": "stream",
     "text": [
      "currently downloading--> http://ssusi.jhuapl.edu/data/f17/apl/sdr//2016/207//PS.APL_V0116S024CE0008_SC.U_DI.A_GP.F17-SSUSI_PA.APL-SDR-DISK_DD.20160725_SN.50157-01_DF.NC\n"
     ]
    },
    {
     "name": "stderr",
     "output_type": "stream",
     "text": [
      "/usr/local/lib/python2.7/dist-packages/urllib3/connectionpool.py:852: InsecureRequestWarning: Unverified HTTPS request is being made. Adding certificate verification is strongly advised. See: https://urllib3.readthedocs.io/en/latest/advanced-usage.html#ssl-warnings\n",
      "  InsecureRequestWarning)\n"
     ]
    },
    {
     "name": "stdout",
     "output_type": "stream",
     "text": [
      "currently downloading--> http://ssusi.jhuapl.edu/data/f17/apl/sdr//2016/207//PS.APL_V0116S024CE0008_SC.U_DI.A_GP.F17-SSUSI_PA.APL-SDR-DISK_DD.20160725_SN.50156-00_DF.NC\n"
     ]
    },
    {
     "name": "stderr",
     "output_type": "stream",
     "text": [
      "/usr/local/lib/python2.7/dist-packages/urllib3/connectionpool.py:852: InsecureRequestWarning: Unverified HTTPS request is being made. Adding certificate verification is strongly advised. See: https://urllib3.readthedocs.io/en/latest/advanced-usage.html#ssl-warnings\n",
      "  InsecureRequestWarning)\n",
      "/usr/local/lib/python2.7/dist-packages/urllib3/connectionpool.py:852: InsecureRequestWarning: Unverified HTTPS request is being made. Adding certificate verification is strongly advised. See: https://urllib3.readthedocs.io/en/latest/advanced-usage.html#ssl-warnings\n",
      "  InsecureRequestWarning)\n"
     ]
    },
    {
     "name": "stdout",
     "output_type": "stream",
     "text": [
      "currently downloading--> http://ssusi.jhuapl.edu/data/f16/apl/sdr//2016/207//PS.APL_V0116S024CE0018_SC.U_DI.A_GP.F16-SSUSI_PA.APL-SDR-DISK_DD.20160725_SN.65889-00_DF.NC\n"
     ]
    },
    {
     "name": "stderr",
     "output_type": "stream",
     "text": [
      "/usr/local/lib/python2.7/dist-packages/urllib3/connectionpool.py:852: InsecureRequestWarning: Unverified HTTPS request is being made. Adding certificate verification is strongly advised. See: https://urllib3.readthedocs.io/en/latest/advanced-usage.html#ssl-warnings\n",
      "  InsecureRequestWarning)\n"
     ]
    },
    {
     "name": "stdout",
     "output_type": "stream",
     "text": [
      "currently downloading--> http://ssusi.jhuapl.edu/data/f16/apl/sdr//2016/207//PS.APL_V0116S024CE0018_SC.U_DI.A_GP.F16-SSUSI_PA.APL-SDR-DISK_DD.20160725_SN.65888-00_DF.NC\n"
     ]
    },
    {
     "name": "stderr",
     "output_type": "stream",
     "text": [
      "/usr/local/lib/python2.7/dist-packages/urllib3/connectionpool.py:852: InsecureRequestWarning: Unverified HTTPS request is being made. Adding certificate verification is strongly advised. See: https://urllib3.readthedocs.io/en/latest/advanced-usage.html#ssl-warnings\n",
      "  InsecureRequestWarning)\n"
     ]
    },
    {
     "name": "stdout",
     "output_type": "stream",
     "text": [
      "currently downloading--> http://ssusi.jhuapl.edu/data/f16/apl/sdr//2016/207//PS.APL_V0116S024CE0018_SC.U_DI.A_GP.F16-SSUSI_PA.APL-SDR-DISK_DD.20160725_SN.65887-00_DF.NC\n"
     ]
    },
    {
     "name": "stderr",
     "output_type": "stream",
     "text": [
      "/usr/local/lib/python2.7/dist-packages/urllib3/connectionpool.py:852: InsecureRequestWarning: Unverified HTTPS request is being made. Adding certificate verification is strongly advised. See: https://urllib3.readthedocs.io/en/latest/advanced-usage.html#ssl-warnings\n",
      "  InsecureRequestWarning)\n"
     ]
    },
    {
     "name": "stdout",
     "output_type": "stream",
     "text": [
      "currently downloading--> http://ssusi.jhuapl.edu/data/f16/apl/sdr//2016/207//PS.APL_V0116S024CE0018_SC.U_DI.A_GP.F16-SSUSI_PA.APL-SDR-DISK_DD.20160725_SN.65886-00_DF.NC\n"
     ]
    },
    {
     "name": "stderr",
     "output_type": "stream",
     "text": [
      "/usr/local/lib/python2.7/dist-packages/urllib3/connectionpool.py:852: InsecureRequestWarning: Unverified HTTPS request is being made. Adding certificate verification is strongly advised. See: https://urllib3.readthedocs.io/en/latest/advanced-usage.html#ssl-warnings\n",
      "  InsecureRequestWarning)\n"
     ]
    },
    {
     "name": "stdout",
     "output_type": "stream",
     "text": [
      "currently downloading--> http://ssusi.jhuapl.edu/data/f16/apl/sdr//2016/207//PS.APL_V0116S024CE0018_SC.U_DI.A_GP.F16-SSUSI_PA.APL-SDR-DISK_DD.20160725_SN.65885-00_DF.NC\n"
     ]
    },
    {
     "name": "stderr",
     "output_type": "stream",
     "text": [
      "/usr/local/lib/python2.7/dist-packages/urllib3/connectionpool.py:852: InsecureRequestWarning: Unverified HTTPS request is being made. Adding certificate verification is strongly advised. See: https://urllib3.readthedocs.io/en/latest/advanced-usage.html#ssl-warnings\n",
      "  InsecureRequestWarning)\n"
     ]
    },
    {
     "name": "stdout",
     "output_type": "stream",
     "text": [
      "currently downloading--> http://ssusi.jhuapl.edu/data/f16/apl/sdr//2016/207//PS.APL_V0116S024CE0018_SC.U_DI.A_GP.F16-SSUSI_PA.APL-SDR-DISK_DD.20160725_SN.65884-00_DF.NC\n"
     ]
    },
    {
     "name": "stderr",
     "output_type": "stream",
     "text": [
      "/usr/local/lib/python2.7/dist-packages/urllib3/connectionpool.py:852: InsecureRequestWarning: Unverified HTTPS request is being made. Adding certificate verification is strongly advised. See: https://urllib3.readthedocs.io/en/latest/advanced-usage.html#ssl-warnings\n",
      "  InsecureRequestWarning)\n"
     ]
    },
    {
     "name": "stdout",
     "output_type": "stream",
     "text": [
      "currently downloading--> http://ssusi.jhuapl.edu/data/f16/apl/sdr//2016/207//PS.APL_V0116S024CE0018_SC.U_DI.A_GP.F16-SSUSI_PA.APL-SDR-DISK_DD.20160725_SN.65883-00_DF.NC\n"
     ]
    },
    {
     "name": "stderr",
     "output_type": "stream",
     "text": [
      "/usr/local/lib/python2.7/dist-packages/urllib3/connectionpool.py:852: InsecureRequestWarning: Unverified HTTPS request is being made. Adding certificate verification is strongly advised. See: https://urllib3.readthedocs.io/en/latest/advanced-usage.html#ssl-warnings\n",
      "  InsecureRequestWarning)\n"
     ]
    },
    {
     "name": "stdout",
     "output_type": "stream",
     "text": [
      "currently downloading--> http://ssusi.jhuapl.edu/data/f16/apl/sdr//2016/207//PS.APL_V0116S024CE0018_SC.U_DI.A_GP.F16-SSUSI_PA.APL-SDR-DISK_DD.20160725_SN.65882-00_DF.NC\n"
     ]
    },
    {
     "name": "stderr",
     "output_type": "stream",
     "text": [
      "/usr/local/lib/python2.7/dist-packages/urllib3/connectionpool.py:852: InsecureRequestWarning: Unverified HTTPS request is being made. Adding certificate verification is strongly advised. See: https://urllib3.readthedocs.io/en/latest/advanced-usage.html#ssl-warnings\n",
      "  InsecureRequestWarning)\n"
     ]
    },
    {
     "name": "stdout",
     "output_type": "stream",
     "text": [
      "currently downloading--> http://ssusi.jhuapl.edu/data/f16/apl/sdr//2016/207//PS.APL_V0116S024CE0018_SC.U_DI.A_GP.F16-SSUSI_PA.APL-SDR-DISK_DD.20160725_SN.65881-00_DF.NC\n"
     ]
    },
    {
     "name": "stderr",
     "output_type": "stream",
     "text": [
      "/usr/local/lib/python2.7/dist-packages/urllib3/connectionpool.py:852: InsecureRequestWarning: Unverified HTTPS request is being made. Adding certificate verification is strongly advised. See: https://urllib3.readthedocs.io/en/latest/advanced-usage.html#ssl-warnings\n",
      "  InsecureRequestWarning)\n"
     ]
    },
    {
     "name": "stdout",
     "output_type": "stream",
     "text": [
      "currently downloading--> http://ssusi.jhuapl.edu/data/f16/apl/sdr//2016/207//PS.APL_V0116S024CE0018_SC.U_DI.A_GP.F16-SSUSI_PA.APL-SDR-DISK_DD.20160725_SN.65880-00_DF.NC\n"
     ]
    },
    {
     "name": "stderr",
     "output_type": "stream",
     "text": [
      "/usr/local/lib/python2.7/dist-packages/urllib3/connectionpool.py:852: InsecureRequestWarning: Unverified HTTPS request is being made. Adding certificate verification is strongly advised. See: https://urllib3.readthedocs.io/en/latest/advanced-usage.html#ssl-warnings\n",
      "  InsecureRequestWarning)\n"
     ]
    },
    {
     "name": "stdout",
     "output_type": "stream",
     "text": [
      "currently downloading--> http://ssusi.jhuapl.edu/data/f16/apl/sdr//2016/207//PS.APL_V0116S024CE0018_SC.U_DI.A_GP.F16-SSUSI_PA.APL-SDR-DISK_DD.20160725_SN.65879-00_DF.NC\n"
     ]
    },
    {
     "name": "stderr",
     "output_type": "stream",
     "text": [
      "/usr/local/lib/python2.7/dist-packages/urllib3/connectionpool.py:852: InsecureRequestWarning: Unverified HTTPS request is being made. Adding certificate verification is strongly advised. See: https://urllib3.readthedocs.io/en/latest/advanced-usage.html#ssl-warnings\n",
      "  InsecureRequestWarning)\n"
     ]
    },
    {
     "name": "stdout",
     "output_type": "stream",
     "text": [
      "currently downloading--> http://ssusi.jhuapl.edu/data/f16/apl/sdr//2016/207//PS.APL_V0116S024CE0018_SC.U_DI.A_GP.F16-SSUSI_PA.APL-SDR-DISK_DD.20160725_SN.65878-01_DF.NC\n"
     ]
    },
    {
     "name": "stderr",
     "output_type": "stream",
     "text": [
      "/usr/local/lib/python2.7/dist-packages/urllib3/connectionpool.py:852: InsecureRequestWarning: Unverified HTTPS request is being made. Adding certificate verification is strongly advised. See: https://urllib3.readthedocs.io/en/latest/advanced-usage.html#ssl-warnings\n",
      "  InsecureRequestWarning)\n"
     ]
    },
    {
     "name": "stdout",
     "output_type": "stream",
     "text": [
      "currently downloading--> http://ssusi.jhuapl.edu/data/f16/apl/sdr//2016/207//PS.APL_V0116S024CE0018_SC.U_DI.A_GP.F16-SSUSI_PA.APL-SDR-DISK_DD.20160725_SN.65877-00_DF.NC\n"
     ]
    },
    {
     "name": "stderr",
     "output_type": "stream",
     "text": [
      "/usr/local/lib/python2.7/dist-packages/urllib3/connectionpool.py:852: InsecureRequestWarning: Unverified HTTPS request is being made. Adding certificate verification is strongly advised. See: https://urllib3.readthedocs.io/en/latest/advanced-usage.html#ssl-warnings\n",
      "  InsecureRequestWarning)\n"
     ]
    },
    {
     "name": "stdout",
     "output_type": "stream",
     "text": [
      "currently downloading--> http://ssusi.jhuapl.edu/data/f16/apl/sdr//2016/207//PS.APL_V0116S024CE0018_SC.U_DI.A_GP.F16-SSUSI_PA.APL-SDR-DISK_DD.20160725_SN.65876-00_DF.NC\n"
     ]
    },
    {
     "name": "stderr",
     "output_type": "stream",
     "text": [
      "/usr/local/lib/python2.7/dist-packages/urllib3/connectionpool.py:852: InsecureRequestWarning: Unverified HTTPS request is being made. Adding certificate verification is strongly advised. See: https://urllib3.readthedocs.io/en/latest/advanced-usage.html#ssl-warnings\n",
      "  InsecureRequestWarning)\n"
     ]
    }
   ],
   "source": [
    "tempFileDir = \"../data/dmsp/ssusi/\"# Make sure you have this dir or create it\n",
    "satList = [ \"f16\", \"f17\", \"f18\" ]\n",
    "ssDwnldObj = dwnld_ssusi.SSUSIDownload(\\\n",
    "                outBaseDir = tempFileDir)\n",
    "dataTypeList = [ \"sdr\" ]\n",
    "\n",
    "tDelta = datetime.timedelta(days=1)\n",
    "while currDate <= endDate:\n",
    "    print \"currently downloading files for --> \",\\\n",
    "        currDate.strftime(\"%Y-%m-%d\")\n",
    "    ssDwnldObj.download_files(currDate, dataTypeList)\n",
    "    currDate = currDate + tDelta"
   ]
  },
  {
   "cell_type": "code",
   "execution_count": 8,
   "metadata": {},
   "outputs": [
    {
     "name": "stdout",
     "output_type": "stream",
     "text": [
      "processing data -->  2016-07-25  sat--> f16\n",
      "currently working with file--> ../data/dmsp/ssusi/f16/20160725/PS.APL_V0116S024CE0018_SC.U_DI.A_GP.F16-SSUSI_PA.APL-SDR-DISK_DD.20160725_SN.65886-00_DF.NC\n",
      "processing---> 1 / 14 files\n"
     ]
    },
    {
     "name": "stderr",
     "output_type": "stream",
     "text": [
      "/usr/local/lib/python2.7/dist-packages/sataurlib-1.0.0b1-py2.7.egg/imagers/ssusi/read_ssusi.py:63: RuntimeWarning: invalid value encountered in greater\n",
      "/usr/local/lib/python2.7/dist-packages/sataurlib-1.0.0b1-py2.7.egg/imagers/ssusi/read_ssusi.py:64: RuntimeWarning: invalid value encountered in greater\n",
      "/usr/local/lib/python2.7/dist-packages/sataurlib-1.0.0b1-py2.7.egg/imagers/ssusi/read_ssusi.py:65: RuntimeWarning: invalid value encountered in greater\n",
      "/usr/local/lib/python2.7/dist-packages/sataurlib-1.0.0b1-py2.7.egg/imagers/ssusi/read_ssusi.py:66: RuntimeWarning: invalid value encountered in greater\n",
      "/usr/local/lib/python2.7/dist-packages/sataurlib-1.0.0b1-py2.7.egg/imagers/ssusi/read_ssusi.py:67: RuntimeWarning: invalid value encountered in greater\n"
     ]
    },
    {
     "name": "stdout",
     "output_type": "stream",
     "text": [
      "currently working with file--> ../data/dmsp/ssusi/f16/20160725/PS.APL_V0116S024CE0018_SC.U_DI.A_GP.F16-SSUSI_PA.APL-SDR-DISK_DD.20160725_SN.65880-00_DF.NC\n",
      "processing---> 2 / 14 files\n",
      "currently working with file--> ../data/dmsp/ssusi/f16/20160725/PS.APL_V0116S024CE0018_SC.U_DI.A_GP.F16-SSUSI_PA.APL-SDR-DISK_DD.20160725_SN.65882-00_DF.NC\n",
      "processing---> 3 / 14 files\n",
      "currently working with file--> ../data/dmsp/ssusi/f16/20160725/PS.APL_V0116S024CE0018_SC.U_DI.A_GP.F16-SSUSI_PA.APL-SDR-DISK_DD.20160725_SN.65887-00_DF.NC\n",
      "processing---> 4 / 14 files\n",
      "currently working with file--> ../data/dmsp/ssusi/f16/20160725/PS.APL_V0116S024CE0018_SC.U_DI.A_GP.F16-SSUSI_PA.APL-SDR-DISK_DD.20160725_SN.65878-01_DF.NC\n",
      "processing---> 5 / 14 files\n",
      "currently working with file--> ../data/dmsp/ssusi/f16/20160725/PS.APL_V0116S024CE0018_SC.U_DI.A_GP.F16-SSUSI_PA.APL-SDR-DISK_DD.20160725_SN.65883-00_DF.NC\n",
      "processing---> 6 / 14 files\n",
      "currently working with file--> ../data/dmsp/ssusi/f16/20160725/PS.APL_V0116S024CE0018_SC.U_DI.A_GP.F16-SSUSI_PA.APL-SDR-DISK_DD.20160725_SN.65876-00_DF.NC\n",
      "processing---> 7 / 14 files\n",
      "currently working with file--> ../data/dmsp/ssusi/f16/20160725/PS.APL_V0116S024CE0018_SC.U_DI.A_GP.F16-SSUSI_PA.APL-SDR-DISK_DD.20160725_SN.65888-00_DF.NC\n",
      "processing---> 8 / 14 files\n",
      "currently working with file--> ../data/dmsp/ssusi/f16/20160725/PS.APL_V0116S024CE0018_SC.U_DI.A_GP.F16-SSUSI_PA.APL-SDR-DISK_DD.20160725_SN.65889-00_DF.NC\n",
      "processing---> 9 / 14 files\n",
      "currently working with file--> ../data/dmsp/ssusi/f16/20160725/PS.APL_V0116S024CE0018_SC.U_DI.A_GP.F16-SSUSI_PA.APL-SDR-DISK_DD.20160725_SN.65877-00_DF.NC\n",
      "processing---> 10 / 14 files\n",
      "currently working with file--> ../data/dmsp/ssusi/f16/20160725/PS.APL_V0116S024CE0018_SC.U_DI.A_GP.F16-SSUSI_PA.APL-SDR-DISK_DD.20160725_SN.65885-00_DF.NC\n",
      "processing---> 11 / 14 files\n",
      "currently working with file--> ../data/dmsp/ssusi/f16/20160725/PS.APL_V0116S024CE0018_SC.U_DI.A_GP.F16-SSUSI_PA.APL-SDR-DISK_DD.20160725_SN.65884-00_DF.NC\n",
      "processing---> 12 / 14 files\n",
      "currently working with file--> ../data/dmsp/ssusi/f16/20160725/PS.APL_V0116S024CE0018_SC.U_DI.A_GP.F16-SSUSI_PA.APL-SDR-DISK_DD.20160725_SN.65881-00_DF.NC\n",
      "processing---> 13 / 14 files\n",
      "currently working with file--> ../data/dmsp/ssusi/f16/20160725/PS.APL_V0116S024CE0018_SC.U_DI.A_GP.F16-SSUSI_PA.APL-SDR-DISK_DD.20160725_SN.65879-00_DF.NC\n",
      "processing---> 14 / 14 files\n",
      "processing data -->  2016-07-25  sat--> f17\n",
      "currently working with file--> ../data/dmsp/ssusi/f17/20160725/PS.APL_V0116S024CE0008_SC.U_DI.A_GP.F17-SSUSI_PA.APL-SDR-DISK_DD.20160725_SN.50162-00_DF.NC\n",
      "processing---> 1 / 15 files\n",
      "currently working with file--> ../data/dmsp/ssusi/f17/20160725/PS.APL_V0116S024CE0008_SC.U_DI.A_GP.F17-SSUSI_PA.APL-SDR-DISK_DD.20160725_SN.50156-00_DF.NC\n",
      "processing---> 2 / 15 files\n",
      "currently working with file--> ../data/dmsp/ssusi/f17/20160725/PS.APL_V0116S024CE0008_SC.U_DI.A_GP.F17-SSUSI_PA.APL-SDR-DISK_DD.20160725_SN.50167-00_DF.NC\n",
      "processing---> 3 / 15 files\n",
      "currently working with file--> ../data/dmsp/ssusi/f17/20160725/PS.APL_V0116S024CE0008_SC.U_DI.A_GP.F17-SSUSI_PA.APL-SDR-DISK_DD.20160725_SN.50158-01_DF.NC\n",
      "processing---> 4 / 15 files\n",
      "currently working with file--> ../data/dmsp/ssusi/f17/20160725/PS.APL_V0116S024CE0008_SC.U_DI.A_GP.F17-SSUSI_PA.APL-SDR-DISK_DD.20160725_SN.50157-01_DF.NC\n",
      "processing---> 5 / 15 files\n",
      "currently working with file--> ../data/dmsp/ssusi/f17/20160725/PS.APL_V0116S024CE0008_SC.U_DI.A_GP.F17-SSUSI_PA.APL-SDR-DISK_DD.20160725_SN.50164-00_DF.NC\n",
      "processing---> 6 / 15 files\n",
      "currently working with file--> ../data/dmsp/ssusi/f17/20160725/PS.APL_V0116S024CE0008_SC.U_DI.A_GP.F17-SSUSI_PA.APL-SDR-DISK_DD.20160725_SN.50163-00_DF.NC\n",
      "processing---> 7 / 15 files\n",
      "currently working with file--> ../data/dmsp/ssusi/f17/20160725/PS.APL_V0116S024CE0008_SC.U_DI.A_GP.F17-SSUSI_PA.APL-SDR-DISK_DD.20160725_SN.50166-00_DF.NC\n",
      "processing---> 8 / 15 files\n",
      "currently working with file--> ../data/dmsp/ssusi/f17/20160725/PS.APL_V0116S024CE0008_SC.U_DI.A_GP.F17-SSUSI_PA.APL-SDR-DISK_DD.20160725_SN.50168-00_DF.NC\n",
      "processing---> 9 / 15 files\n",
      "currently working with file--> ../data/dmsp/ssusi/f17/20160725/PS.APL_V0116S024CE0008_SC.U_DI.A_GP.F17-SSUSI_PA.APL-SDR-DISK_DD.20160725_SN.50160-00_DF.NC\n",
      "processing---> 10 / 15 files\n",
      "currently working with file--> ../data/dmsp/ssusi/f17/20160725/PS.APL_V0116S024CE0008_SC.U_DI.A_GP.F17-SSUSI_PA.APL-SDR-DISK_DD.20160725_SN.50161-00_DF.NC\n",
      "processing---> 11 / 15 files\n",
      "currently working with file--> ../data/dmsp/ssusi/f17/20160725/PS.APL_V0116S024CE0008_SC.U_DI.A_GP.F17-SSUSI_PA.APL-SDR-DISK_DD.20160725_SN.50169-00_DF.NC\n",
      "processing---> 12 / 15 files\n",
      "currently working with file--> ../data/dmsp/ssusi/f17/20160725/PS.APL_V0116S024CE0008_SC.U_DI.A_GP.F17-SSUSI_PA.APL-SDR-DISK_DD.20160725_SN.50165-00_DF.NC\n",
      "processing---> 13 / 15 files\n",
      "currently working with file--> ../data/dmsp/ssusi/f17/20160725/PS.APL_V0116S024CE0008_SC.U_DI.A_GP.F17-SSUSI_PA.APL-SDR-DISK_DD.20160725_SN.50157-02_DF.NC\n",
      "processing---> 14 / 15 files\n",
      "currently working with file--> ../data/dmsp/ssusi/f17/20160725/PS.APL_V0116S024CE0008_SC.U_DI.A_GP.F17-SSUSI_PA.APL-SDR-DISK_DD.20160725_SN.50159-00_DF.NC\n",
      "processing---> 15 / 15 files\n",
      "processing data -->  2016-07-25  sat--> f18\n",
      "currently working with file--> ../data/dmsp/ssusi/f18/20160725/PS.APL_V0116S024CB0005_SC.U_DI.A_GP.F18-SSUSI_PA.APL-SDR-DISK_DD.20160725_SN.34901-00_DF.NC\n",
      "processing---> 1 / 14 files\n",
      "currently working with file--> ../data/dmsp/ssusi/f18/20160725/PS.APL_V0116S024CB0005_SC.U_DI.A_GP.F18-SSUSI_PA.APL-SDR-DISK_DD.20160725_SN.34906-00_DF.NC\n",
      "processing---> 2 / 14 files\n",
      "currently working with file--> ../data/dmsp/ssusi/f18/20160725/PS.APL_V0116S024CB0005_SC.U_DI.A_GP.F18-SSUSI_PA.APL-SDR-DISK_DD.20160725_SN.34897-00_DF.NC\n",
      "processing---> 3 / 14 files\n",
      "currently working with file--> ../data/dmsp/ssusi/f18/20160725/PS.APL_V0116S024CB0005_SC.U_DI.A_GP.F18-SSUSI_PA.APL-SDR-DISK_DD.20160725_SN.34896-00_DF.NC\n",
      "processing---> 4 / 14 files\n",
      "currently working with file--> ../data/dmsp/ssusi/f18/20160725/PS.APL_V0116S024CB0005_SC.U_DI.A_GP.F18-SSUSI_PA.APL-SDR-DISK_DD.20160725_SN.34902-00_DF.NC\n",
      "processing---> 5 / 14 files\n",
      "currently working with file--> ../data/dmsp/ssusi/f18/20160725/PS.APL_V0116S024CB0005_SC.U_DI.A_GP.F18-SSUSI_PA.APL-SDR-DISK_DD.20160725_SN.34903-00_DF.NC\n",
      "processing---> 6 / 14 files\n",
      "currently working with file--> ../data/dmsp/ssusi/f18/20160725/PS.APL_V0116S024CB0005_SC.U_DI.A_GP.F18-SSUSI_PA.APL-SDR-DISK_DD.20160725_SN.34899-00_DF.NC\n",
      "processing---> 7 / 14 files\n",
      "currently working with file--> ../data/dmsp/ssusi/f18/20160725/PS.APL_V0116S024CB0005_SC.U_DI.A_GP.F18-SSUSI_PA.APL-SDR-DISK_DD.20160725_SN.34900-00_DF.NC\n",
      "processing---> 8 / 14 files\n",
      "currently working with file--> ../data/dmsp/ssusi/f18/20160725/PS.APL_V0116S024CB0005_SC.U_DI.A_GP.F18-SSUSI_PA.APL-SDR-DISK_DD.20160725_SN.34905-00_DF.NC\n",
      "processing---> 9 / 14 files\n",
      "currently working with file--> ../data/dmsp/ssusi/f18/20160725/PS.APL_V0116S024CB0005_SC.U_DI.A_GP.F18-SSUSI_PA.APL-SDR-DISK_DD.20160725_SN.34898-00_DF.NC\n",
      "processing---> 10 / 14 files\n",
      "currently working with file--> ../data/dmsp/ssusi/f18/20160725/PS.APL_V0116S024CB0005_SC.U_DI.A_GP.F18-SSUSI_PA.APL-SDR-DISK_DD.20160725_SN.34907-00_DF.NC\n",
      "processing---> 11 / 14 files\n",
      "currently working with file--> ../data/dmsp/ssusi/f18/20160725/PS.APL_V0116S024CB0005_SC.U_DI.A_GP.F18-SSUSI_PA.APL-SDR-DISK_DD.20160725_SN.34908-00_DF.NC\n",
      "processing---> 12 / 14 files\n",
      "currently working with file--> ../data/dmsp/ssusi/f18/20160725/PS.APL_V0116S024CB0005_SC.U_DI.A_GP.F18-SSUSI_PA.APL-SDR-DISK_DD.20160725_SN.34904-00_DF.NC\n",
      "processing---> 13 / 14 files\n",
      "currently working with file--> ../data/dmsp/ssusi/f18/20160725/PS.APL_V0116S024CB0005_SC.U_DI.A_GP.F18-SSUSI_PA.APL-SDR-DISK_DD.20160725_SN.34895-00_DF.NC\n",
      "processing---> 14 / 14 files\n"
     ]
    }
   ],
   "source": [
    "rawFileDir = \"../data/dmsp/ssusi/\" # Make sure you have this dir or create it\n",
    "prcsdFileDir = \"../data/dmsp/ssusi/prcsd/\"\n",
    "satList = [ \"f16\", \"f17\", \"f18\" ]\n",
    "tDelta = datetime.timedelta(days=1)\n",
    "while currDate <= endDate:\n",
    "    for currSat in satList:\n",
    "        currDir = rawFileDir + currSat + \"/\"\n",
    "        for root, dirs, files in os.walk(currDir):\n",
    "            for nd, dd in enumerate(dirs):\n",
    "                if currDate.strftime(\"%Y%m%d\") not in dd:\n",
    "                    continue\n",
    "                print \"processing data --> \",\\\n",
    "                         currDate.strftime(\"%Y-%m-%d\"), \" sat-->\", currSat\n",
    "                ssRdObj = read_ssusi.ProcessData( [root + dd + \"/\"],\\\n",
    "                             prcsdFileDir, currDate )\n",
    "                ssRdObj.processed_data_to_file(keepRawFiles=False)\n",
    "    currDate += tDelta"
   ]
  },
  {
   "cell_type": "code",
   "execution_count": null,
   "metadata": {
    "collapsed": true
   },
   "outputs": [],
   "source": []
  }
 ],
 "metadata": {
  "kernelspec": {
   "display_name": "Python 2",
   "language": "python",
   "name": "python2"
  },
  "language_info": {
   "codemirror_mode": {
    "name": "ipython",
    "version": 2
   },
   "file_extension": ".py",
   "mimetype": "text/x-python",
   "name": "python",
   "nbconvert_exporter": "python",
   "pygments_lexer": "ipython2",
   "version": "2.7.6"
  }
 },
 "nbformat": 4,
 "nbformat_minor": 2
}
