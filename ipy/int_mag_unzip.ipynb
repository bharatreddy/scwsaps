{
 "cells": [
  {
   "cell_type": "code",
   "execution_count": 1,
   "metadata": {
    "collapsed": true
   },
   "outputs": [],
   "source": [
    "import gzip\n",
    "import os\n",
    "import datetime\n",
    "import shutil"
   ]
  },
  {
   "cell_type": "code",
   "execution_count": 2,
   "metadata": {
    "collapsed": true
   },
   "outputs": [],
   "source": [
    "intMagDir = \"../data/mag/\"\n",
    "inpDate = datetime.datetime(2011,7,5)#datetime.datetime(2011,5,16)"
   ]
  },
  {
   "cell_type": "code",
   "execution_count": 3,
   "metadata": {
    "collapsed": true
   },
   "outputs": [],
   "source": [
    "# Unzip the gz files\n",
    "intMagDir = \"../data/mag/\"\n",
    "for subdir, dirs, files in os.walk(intMagDir):\n",
    "    if inpDate.strftime(\"%Y%m%d\") in subdir:\n",
    "        for currFile in files:\n",
    "            if \".gz\" in currFile:\n",
    "                if inpDate.strftime(\"%Y%m%d\") in currFile:\n",
    "                    fIn = subdir + \"/\" + currFile\n",
    "                    fOut = subdir + \"/\" + currFile[:-3]\n",
    "                    inF = gzip.GzipFile(fIn, 'rb')\n",
    "                    s = inF.read()\n",
    "                    inF.close()\n",
    "                    outF = file(fOut, 'wb')\n",
    "                    outF.write(s)\n",
    "                    outF.close()\n",
    "                    os.remove(fIn)"
   ]
  },
  {
   "cell_type": "code",
   "execution_count": null,
   "metadata": {
    "collapsed": true
   },
   "outputs": [],
   "source": []
  }
 ],
 "metadata": {
  "kernelspec": {
   "display_name": "Python 2",
   "language": "python",
   "name": "python2"
  },
  "language_info": {
   "codemirror_mode": {
    "name": "ipython",
    "version": 2
   },
   "file_extension": ".py",
   "mimetype": "text/x-python",
   "name": "python",
   "nbconvert_exporter": "python",
   "pygments_lexer": "ipython2",
   "version": "2.7.6"
  }
 },
 "nbformat": 4,
 "nbformat_minor": 2
}
