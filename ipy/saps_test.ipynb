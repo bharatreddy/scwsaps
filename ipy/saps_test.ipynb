{
 "cells": [
  {
   "cell_type": "code",
   "execution_count": 1,
   "metadata": {
    "collapsed": true
   },
   "outputs": [],
   "source": [
    "import pandas\n",
    "import datetime\n",
    "import feather\n",
    "import numpy\n",
    "import scipy.optimize\n",
    "import seaborn as sns\n",
    "import matplotlib.pyplot as plt\n",
    "from matplotlib.colors import ListedColormap\n",
    "from matplotlib.colors import Normalize\n",
    "from matplotlib import ticker\n",
    "from matplotlib.dates import date2num, DateFormatter\n",
    "%matplotlib inline"
   ]
  },
  {
   "cell_type": "code",
   "execution_count": 2,
   "metadata": {
    "collapsed": true
   },
   "outputs": [],
   "source": [
    "# Some constants\n",
    "eventDate = datetime.datetime(2011,5,16)\n",
    "timeStart = datetime.datetime(2011,5,16,7,0)\n",
    "timeEnd = datetime.datetime(2011,5,16,10,0)\n",
    "sapsTime = datetime.datetime(2011,5,16,8,36)\n",
    "sapsRadList = [ \"cvw\" ]\n",
    "sapsMlatRange = [ 56., 60. ]\n",
    "sapsVelCutoff = 50.\n",
    "sapsNpointsCutoff = 50 # per radar per beam"
   ]
  },
  {
   "cell_type": "code",
   "execution_count": 3,
   "metadata": {},
   "outputs": [
    {
     "data": {
      "text/html": [
       "<div>\n",
       "<table border=\"1\" class=\"dataframe\">\n",
       "  <thead>\n",
       "    <tr style=\"text-align: right;\">\n",
       "      <th></th>\n",
       "      <th>dateStr</th>\n",
       "      <th>timeStr</th>\n",
       "      <th>beam</th>\n",
       "      <th>range</th>\n",
       "      <th>azimCalcMag</th>\n",
       "      <th>vLos</th>\n",
       "      <th>MLAT</th>\n",
       "      <th>MLON</th>\n",
       "      <th>MLT</th>\n",
       "      <th>GLAT</th>\n",
       "      <th>GLON</th>\n",
       "      <th>radId</th>\n",
       "      <th>radCode</th>\n",
       "      <th>date</th>\n",
       "      <th>normMLT</th>\n",
       "    </tr>\n",
       "  </thead>\n",
       "  <tbody>\n",
       "    <tr>\n",
       "      <th>0</th>\n",
       "      <td>20110516</td>\n",
       "      <td>700</td>\n",
       "      <td>0</td>\n",
       "      <td>2</td>\n",
       "      <td>-2.9119</td>\n",
       "      <td>1.6006</td>\n",
       "      <td>40.1949</td>\n",
       "      <td>-144.9959</td>\n",
       "      <td>16.5659</td>\n",
       "      <td>45.3684</td>\n",
       "      <td>143.7537</td>\n",
       "      <td>40</td>\n",
       "      <td>hok</td>\n",
       "      <td>2011-05-16 07:00:00</td>\n",
       "      <td>-7.4341</td>\n",
       "    </tr>\n",
       "    <tr>\n",
       "      <th>1</th>\n",
       "      <td>20110516</td>\n",
       "      <td>700</td>\n",
       "      <td>0</td>\n",
       "      <td>3</td>\n",
       "      <td>-1.7818</td>\n",
       "      <td>2.0959</td>\n",
       "      <td>40.6224</td>\n",
       "      <td>-144.9279</td>\n",
       "      <td>16.5705</td>\n",
       "      <td>45.8067</td>\n",
       "      <td>143.8465</td>\n",
       "      <td>40</td>\n",
       "      <td>hok</td>\n",
       "      <td>2011-05-16 07:00:00</td>\n",
       "      <td>-7.4295</td>\n",
       "    </tr>\n",
       "    <tr>\n",
       "      <th>2</th>\n",
       "      <td>20110516</td>\n",
       "      <td>700</td>\n",
       "      <td>0</td>\n",
       "      <td>4</td>\n",
       "      <td>-0.9696</td>\n",
       "      <td>3.3891</td>\n",
       "      <td>41.0394</td>\n",
       "      <td>-144.8684</td>\n",
       "      <td>16.5744</td>\n",
       "      <td>46.2334</td>\n",
       "      <td>143.9308</td>\n",
       "      <td>40</td>\n",
       "      <td>hok</td>\n",
       "      <td>2011-05-16 07:00:00</td>\n",
       "      <td>-7.4256</td>\n",
       "    </tr>\n",
       "    <tr>\n",
       "      <th>3</th>\n",
       "      <td>20110516</td>\n",
       "      <td>700</td>\n",
       "      <td>0</td>\n",
       "      <td>5</td>\n",
       "      <td>-0.3545</td>\n",
       "      <td>2.5890</td>\n",
       "      <td>41.4503</td>\n",
       "      <td>-144.8143</td>\n",
       "      <td>16.5781</td>\n",
       "      <td>46.6531</td>\n",
       "      <td>144.0106</td>\n",
       "      <td>40</td>\n",
       "      <td>hok</td>\n",
       "      <td>2011-05-16 07:00:00</td>\n",
       "      <td>-7.4219</td>\n",
       "    </tr>\n",
       "    <tr>\n",
       "      <th>4</th>\n",
       "      <td>20110516</td>\n",
       "      <td>700</td>\n",
       "      <td>0</td>\n",
       "      <td>6</td>\n",
       "      <td>0.1277</td>\n",
       "      <td>-0.8005</td>\n",
       "      <td>41.8574</td>\n",
       "      <td>-144.7640</td>\n",
       "      <td>16.5814</td>\n",
       "      <td>47.0682</td>\n",
       "      <td>144.0876</td>\n",
       "      <td>40</td>\n",
       "      <td>hok</td>\n",
       "      <td>2011-05-16 07:00:00</td>\n",
       "      <td>-7.4186</td>\n",
       "    </tr>\n",
       "  </tbody>\n",
       "</table>\n",
       "</div>"
      ],
      "text/plain": [
       "    dateStr  timeStr  beam  range  azimCalcMag    vLos     MLAT      MLON  \\\n",
       "0  20110516      700     0      2      -2.9119  1.6006  40.1949 -144.9959   \n",
       "1  20110516      700     0      3      -1.7818  2.0959  40.6224 -144.9279   \n",
       "2  20110516      700     0      4      -0.9696  3.3891  41.0394 -144.8684   \n",
       "3  20110516      700     0      5      -0.3545  2.5890  41.4503 -144.8143   \n",
       "4  20110516      700     0      6       0.1277 -0.8005  41.8574 -144.7640   \n",
       "\n",
       "       MLT     GLAT      GLON  radId radCode                date  normMLT  \n",
       "0  16.5659  45.3684  143.7537     40     hok 2011-05-16 07:00:00  -7.4341  \n",
       "1  16.5705  45.8067  143.8465     40     hok 2011-05-16 07:00:00  -7.4295  \n",
       "2  16.5744  46.2334  143.9308     40     hok 2011-05-16 07:00:00  -7.4256  \n",
       "3  16.5781  46.6531  144.0106     40     hok 2011-05-16 07:00:00  -7.4219  \n",
       "4  16.5814  47.0682  144.0876     40     hok 2011-05-16 07:00:00  -7.4186  "
      ]
     },
     "execution_count": 3,
     "metadata": {},
     "output_type": "execute_result"
    }
   ],
   "source": [
    "# read from the feather file\n",
    "velsDF = feather.read_dataframe('../data/saps-' +\\\n",
    "                eventDate.strftime(\"%Y%m%d\") + '.feather')\n",
    "velsDF.head()"
   ]
  },
  {
   "cell_type": "code",
   "execution_count": 4,
   "metadata": {},
   "outputs": [
    {
     "data": {
      "image/png": "[encoded data removed]",
      "text/plain": [
       "<matplotlib.figure.Figure at 0x7fa5c452b110>"
      ]
     },
     "metadata": {},
     "output_type": "display_data"
    }
   ],
   "source": [
    "# sel data from a radar\n",
    "rtiDF = velsDF[ (velsDF[\"radCode\"] == \"cvw\") &\\\n",
    "              (velsDF[\"beam\"] == 7) ]\n",
    "# Make an RTIish Plot\n",
    "# Seaborn styling\n",
    "sns.set_style(\"whitegrid\")\n",
    "sns.set_context(\"paper\")\n",
    "seaMap = ListedColormap(sns.color_palette(\"RdBu\"))\n",
    "# Plot the data\n",
    "fig = plt.figure()\n",
    "ax = fig.add_subplot(111)\n",
    "rtiPlot = ax.scatter( rtiDF[\"date\"].values, rtiDF[\"MLAT\"].values,\\\n",
    "           c=rtiDF[\"vLos\"].values, cmap=seaMap,vmin=-200, vmax=200, s=90. )\n",
    "ax.set_xlim( [ timeStart, timeEnd ] )\n",
    "ax.set_xlabel(\"TIME (UT)\")\n",
    "ax.set_ylabel(\"MLAT\")\n",
    "ax.get_xaxis().set_major_formatter(DateFormatter('%H:%M'))\n",
    "\n",
    "cbar = plt.colorbar(rtiPlot, orientation='vertical')\n",
    "cbar.set_label(\"L-o-S velocity [m/s]\")\n",
    "fig.savefig( \"../plots/rtpy-sctr-\" + eventDate.strftime(\"%Y%m%d\") + \".pdf\",bbox_inches='tight' )"
   ]
  },
  {
   "cell_type": "code",
   "execution_count": 5,
   "metadata": {},
   "outputs": [
    {
     "name": "stderr",
     "output_type": "stream",
     "text": [
      "/usr/local/lib/python2.7/dist-packages/ipykernel_launcher.py:11: SettingWithCopyWarning: \n",
      "A value is trying to be set on a copy of a slice from a DataFrame.\n",
      "Try using .loc[row_indexer,col_indexer] = value instead\n",
      "\n",
      "See the caveats in the documentation: http://pandas.pydata.org/pandas-docs/stable/indexing.html#indexing-view-versus-copy\n",
      "  # This is added back by InteractiveShellApp.init_path()\n"
     ]
    },
    {
     "data": {
      "image/png": "[encoded data removed]",
      "text/plain": [
       "<matplotlib.figure.Figure at 0x7fa584a26750>"
      ]
     },
     "metadata": {},
     "output_type": "display_data"
    }
   ],
   "source": [
    "# sel data from a radar\n",
    "rtiDF = velsDF[ (velsDF[\"radCode\"] == \"cvw\") &\\\n",
    "              (velsDF[\"beam\"] == 7) ]\n",
    "# Make an RTIish Plot\n",
    "# Seaborn styling\n",
    "sns.set_style(\"whitegrid\")\n",
    "sns.set_context(\"paper\")\n",
    "seaMap = ListedColormap(sns.color_palette(\"coolwarm_r\"))\n",
    "# Plot the data\n",
    "fig = plt.figure()\n",
    "ax = fig.add_subplot(111)\n",
    "rtiDF[\"dtNum\"] = [ date2num(x) for x in rtiDF[\"date\"] ]\n",
    "plotDF = rtiDF[ [\"MLAT\", \"dtNum\",\\\n",
    "                        \"vLos\"] ].pivot( \"MLAT\", \"dtNum\" )\n",
    "mlatVals = plotDF.index.values\n",
    "timeVals = plotDF.columns.levels[1].values\n",
    "\n",
    "timeCntr, mlatCntr  = numpy.meshgrid( timeVals, mlatVals )\n",
    "# Mask the nan values! pcolormesh can't handle them well!\n",
    "vLosVals = numpy.ma.masked_where(numpy.isnan(plotDF[\"vLos\"].values),plotDF[\"vLos\"].values)\n",
    "rtiPlot = ax.pcolormesh(timeCntr, mlatCntr, vLosVals, cmap=seaMap, vmin=-200,vmax=200)\n",
    "\n",
    "\n",
    "ax.set_xlim( [ timeStart, timeEnd ] )\n",
    "ax.set_xlabel(\"TIME (UT)\")\n",
    "ax.set_ylabel(\"MLAT\")\n",
    "ax.get_xaxis().set_major_formatter(DateFormatter('%H:%M'))\n",
    "\n",
    "\n",
    "cbar = plt.colorbar(rtiPlot, orientation='vertical')\n",
    "cbar.set_label(\"L-o-S velocity [m/s]\")\n",
    "fig.savefig( \"../plots/rtpy-\" + eventDate.strftime(\"%Y%m%d\") + \".pdf\",bbox_inches='tight' )"
   ]
  },
  {
   "cell_type": "code",
   "execution_count": 6,
   "metadata": {
    "collapsed": true
   },
   "outputs": [],
   "source": [
    "# Filter SAPS scatter using the\n",
    "# following criteria!!!\n",
    "# 1) select the radars where SAPS\n",
    "# is observed\n",
    "sapsDF = velsDF[ velsDF[\"radCode\"].isin(sapsRadList) ]\n",
    "# 2) The flows are westward!\n",
    "# So beams with negative azimuth will have\n",
    "# negative LoS vels and vice-versa!\n",
    "sapsDF = sapsDF[sapsDF[\"azimCalcMag\"]/sapsDF[\"vLos\"] > 0. ]\n",
    "# 3) Set a MLAT limit\n",
    "sapsDF = sapsDF[ (sapsDF[\"MLAT\"] >= sapsMlatRange[0]) &\\\n",
    "               (sapsDF[\"MLAT\"] <= sapsMlatRange[1]) ]\n",
    "# 4) Set a velocity cutoff\n",
    "sapsDF = sapsDF[ numpy.abs(sapsDF[\"vLos\"]) >= sapsVelCutoff ]\n",
    "# 5) Finally group by radar and beam number to\n",
    "# discard velocities whose values are\n",
    "cntPntsSAPSGrp = sapsDF.groupby( [\"radCode\", \"beam\"] ).size().reset_index()\n",
    "# cntPntsSAPSGrp.columns = [\"radCode\", \"beam\", \"nPoints\"]\n",
    "# sapsDF = pandas.merge( sapsDF, cntPntsSAPSGrp, on=[\"radCode\", \"beam\"] )\n",
    "# sapsDF = sapsDF[ sapsDF[\"nPoints\"] >= sapsNpointsCutoff ]"
   ]
  },
  {
   "cell_type": "code",
   "execution_count": 7,
   "metadata": {},
   "outputs": [
    {
     "name": "stdout",
     "output_type": "stream",
     "text": [
      "206\n"
     ]
    },
    {
     "name": "stderr",
     "output_type": "stream",
     "text": [
      "/usr/local/lib/python2.7/dist-packages/ipykernel_launcher.py:12: SettingWithCopyWarning: \n",
      "A value is trying to be set on a copy of a slice from a DataFrame.\n",
      "Try using .loc[row_indexer,col_indexer] = value instead\n",
      "\n",
      "See the caveats in the documentation: http://pandas.pydata.org/pandas-docs/stable/indexing.html#indexing-view-versus-copy\n",
      "  if sys.path[0] == '':\n"
     ]
    },
    {
     "data": {
      "image/png": "[encoded data removed]",
      "text/plain": [
       "<matplotlib.figure.Figure at 0x7fa583111c90>"
      ]
     },
     "metadata": {},
     "output_type": "display_data"
    }
   ],
   "source": [
    "# sel data from a radar and beam\n",
    "rtiDF = sapsDF[ (sapsDF[\"radCode\"] == \"cvw\") &\\\n",
    "               (sapsDF[\"beam\"] == 7) ]\n",
    "print len(rtiDF.index)\n",
    "# Make an RTIish Plot\n",
    "# Seaborn styling\n",
    "sns.set_style(\"whitegrid\")\n",
    "sns.set_context(\"paper\")\n",
    "seaMap = ListedColormap(sns.color_palette(\"coolwarm_r\"))\n",
    "# Plot the data\n",
    "fig = plt.figure()\n",
    "ax = fig.add_subplot(111)\n",
    "rtiDF[\"dtNum\"] = [ date2num(x) for x in rtiDF[\"date\"] ]\n",
    "plotDF = rtiDF[ [\"MLAT\", \"dtNum\",\\\n",
    "                        \"vLos\"] ].pivot( \"MLAT\", \"dtNum\" )\n",
    "mlatVals = plotDF.index.values\n",
    "timeVals = plotDF.columns.levels[1].values\n",
    "\n",
    "timeCntr, mlatCntr  = numpy.meshgrid( timeVals, mlatVals )\n",
    "# Mask the nan values! pcolormesh can't handle them well!\n",
    "vLosVals = numpy.ma.masked_where(numpy.isnan(plotDF[\"vLos\"].values),plotDF[\"vLos\"].values)\n",
    "rtiPlot = ax.pcolormesh(timeCntr, mlatCntr, vLosVals, cmap=seaMap, vmin=-200,vmax=200)\n",
    "\n",
    "\n",
    "ax.set_xlim( [ timeStart, timeEnd ] )\n",
    "ax.set_ylim( [50,62] )\n",
    "ax.set_xlabel(\"TIME (UT)\")\n",
    "ax.set_ylabel(\"MLAT\")\n",
    "ax.get_xaxis().set_major_formatter(DateFormatter('%H:%M'))\n",
    "\n",
    "\n",
    "cbar = plt.colorbar(rtiPlot, orientation='vertical')\n",
    "cbar.set_label(\"L-o-S velocity [m/s]\")\n",
    "fig.savefig( \"../plots/rt-saps-\" + eventDate.strftime(\"%Y%m%d\") + \".pdf\",bbox_inches='tight' )"
   ]
  },
  {
   "cell_type": "code",
   "execution_count": 8,
   "metadata": {},
   "outputs": [
    {
     "name": "stdout",
     "output_type": "stream",
     "text": [
      "    azimRnd  vLos_median  MLAT_mean  normMLT_mean   vLos_std  MLAT_std  \\\n",
      "0     -70.0    -92.52745   57.05160      -1.60400   5.563021  0.077075   \n",
      "2     -68.0   -101.88670   56.70770      -1.47600   0.377878  0.084994   \n",
      "3     -67.0   -122.71540   56.52360      -1.41270  22.647356  0.990653   \n",
      "4     -66.0    -83.41430   57.97485      -1.56340   0.000000  0.094682   \n",
      "5     -65.0    -96.50180   57.69970      -1.47810   0.057558  0.099843   \n",
      "7     -63.0   -108.98700   57.25980      -1.35215  25.674340  0.107480   \n",
      "8     -62.0    -75.33800   58.88140      -1.51490   0.228820  0.112430   \n",
      "9     -61.0    -78.17205   58.55625      -1.43030   1.297046  0.117450   \n",
      "11    -59.0    -65.51155   58.04250      -1.30590   6.589882  0.124734   \n",
      "13      0.0     93.69420   57.52610      -0.05110   2.557903  0.420701   \n",
      "14      3.0     87.91435   59.46410       0.00835  13.935448  0.295005   \n",
      "15      4.0     95.71630   57.99550       0.00440  14.728716  0.668445   \n",
      "16      7.0     94.42630   58.64705       0.06930  19.694609  0.719470   \n",
      "18     11.0     92.41545   58.63085       0.13255  18.492516  0.719958   \n",
      "\n",
      "    normMLT_std  nPnts  percCnt  \n",
      "0      0.030406      2     40.0  \n",
      "2      0.029981      2     40.0  \n",
      "3      0.138092      3     60.0  \n",
      "4      0.030406      2     40.0  \n",
      "5      0.029981      2     40.0  \n",
      "7      0.029345      2     40.0  \n",
      "8      0.030123      2     40.0  \n",
      "9      0.029698      2     40.0  \n",
      "11     0.028991      2     40.0  \n",
      "13     0.002901      3     60.0  \n",
      "14     0.001061      2     40.0  \n",
      "15     0.001071      5    100.0  \n",
      "16     0.008199      4     80.0  \n",
      "18     0.014241      4     80.0  \n"
     ]
    },
    {
     "name": "stderr",
     "output_type": "stream",
     "text": [
      "/usr/local/lib/python2.7/dist-packages/ipykernel_launcher.py:8: SettingWithCopyWarning: \n",
      "A value is trying to be set on a copy of a slice from a DataFrame.\n",
      "Try using .loc[row_indexer,col_indexer] = value instead\n",
      "\n",
      "See the caveats in the documentation: http://pandas.pydata.org/pandas-docs/stable/indexing.html#indexing-view-versus-copy\n",
      "  \n"
     ]
    }
   ],
   "source": [
    "def custom_round(x, base=5):\n",
    "    return int(base * round(float(x)/base))\n",
    "# Get l-shell fitted velocities from\n",
    "# the SAPS vLos at different time intervals\n",
    "lshellDF = sapsDF[ sapsDF[\"date\"] == sapsTime ]\n",
    "# groupby rounded azimuth to \n",
    "# get median vLos to Lshell fit\n",
    "lshellDF[\"azimRnd\"] = lshellDF[\"azimCalcMag\"].round()#apply(lambda x: custom_round(x, base=5))\n",
    "selCols = [ \"vLos\", \"MLAT\", \"normMLT\", \"azimRnd\" ]\n",
    "azimDF = lshellDF[selCols].groupby( [\"azimRnd\"] ).median().reset_index()\n",
    "azimDF.columns = [ \"azimRnd\", \"vLos_median\", \"MLAT_mean\", \"normMLT_mean\" ]\n",
    "azimStdDF = lshellDF[selCols].groupby( [\"azimRnd\"] ).std().reset_index()\n",
    "azimStdDF.columns = [ \"azimRnd\", \"vLos_std\", \"MLAT_std\", \"normMLT_std\" ]\n",
    "azimDF = pandas.merge( azimDF, azimStdDF, on=\"azimRnd\" )\n",
    "# discard azims with less count\n",
    "azimCntDF = lshellDF.groupby(\"azimRnd\").size().reset_index()\n",
    "azimCntDF.columns = [ \"azimRnd\", \"nPnts\" ]\n",
    "azimDF = pandas.merge( azimDF, azimCntDF, on=\"azimRnd\" )\n",
    "# discard azimuths where number of points is less than\n",
    "# 50% of the maximum (observed across all azimuths)\n",
    "azimDF[\"percCnt\"] = azimDF[\"nPnts\"]*100./azimDF[\"nPnts\"].max()\n",
    "azimDF = azimDF[ azimDF[\"percCnt\"] >= 33. ]\n",
    "print azimDF"
   ]
  },
  {
   "cell_type": "code",
   "execution_count": 13,
   "metadata": {},
   "outputs": [
    {
     "data": {
      "image/png": "[encoded data removed]",
      "text/plain": [
       "<matplotlib.figure.Figure at 0x7fa57bc31810>"
      ]
     },
     "metadata": {},
     "output_type": "display_data"
    }
   ],
   "source": [
    "fig1 = plt.figure()\n",
    "ax = fig1.add_subplot(111)\n",
    "# Seaborn styling\n",
    "sns.set_style(\"darkgrid\")\n",
    "sns.set_context(\"paper\")\n",
    "seaMap = ListedColormap(sns.color_palette(\"coolwarm_r\"))\n",
    "lshellDF.plot( kind='scatter',\n",
    "              x='azimRnd',\n",
    "              y='vLos',\n",
    "              c='MLAT',\n",
    "              s=20., cmap=seaMap, ax=ax)\n",
    "fig1.savefig(\"../plots/lshell-test.pdf\",bbox_inches='tight')"
   ]
  },
  {
   "cell_type": "code",
   "execution_count": 10,
   "metadata": {
    "collapsed": true
   },
   "outputs": [],
   "source": [
    "# Some fitting functions\n",
    "# Fit a sine curve for a given cell\n",
    "def vel_sine_func(theta, Vmax, delTheta):\n",
    "    # we are working in degrees but numpy deals with radians\n",
    "    # convert to radians\n",
    "    return Vmax * numpy.sin( numpy.deg2rad(theta) +\\\n",
    "                            numpy.deg2rad(delTheta) )\n",
    "\n",
    "def model_func(theta, Vmax, delTheta):\n",
    "    vLos = Vmax * numpy.sin( numpy.deg2rad(theta) +\\\n",
    "                            numpy.deg2rad(delTheta) )\n",
    "    return vLos\n",
    "\n",
    "initGuess = ( 1000., 10. )"
   ]
  },
  {
   "cell_type": "code",
   "execution_count": 11,
   "metadata": {},
   "outputs": [
    {
     "name": "stdout",
     "output_type": "stream",
     "text": [
      "vMax---> 161.900044456 +/- 6.38876282339\n",
      "delTheta---> 30.1109402686 +/- 1.56921610426\n"
     ]
    },
    {
     "data": {
      "text/plain": [
       "[<matplotlib.lines.Line2D at 0x7fa57c107fd0>]"
      ]
     },
     "execution_count": 11,
     "metadata": {},
     "output_type": "execute_result"
    },
    {
     "data": {
      "image/png": "[encoded data removed]",
      "text/plain": [
       "<matplotlib.figure.Figure at 0x7fa57c771090>"
      ]
     },
     "metadata": {},
     "output_type": "display_data"
    }
   ],
   "source": [
    "# Fit the data\n",
    "popt, pcov = scipy.optimize.curve_fit(vel_sine_func, \\\n",
    "                    azimDF[\"azimRnd\"].T,\\\n",
    "                    azimDF['vLos_median'].T,\n",
    "                   p0=initGuess)\n",
    "# fitted params\n",
    "print \"vMax--->\", popt[0],\"+/-\", pcov[0,0]**0.5\n",
    "print \"delTheta--->\", popt[1],\"+/-\", pcov[1,1]**0.5\n",
    "# curve for plotting\n",
    "thetaArr = range(-110, 120, 10)\n",
    "vLosArr = [ round( model_func(t, popt[0],popt[1]) ) for t in thetaArr ]\n",
    "# Plots\n",
    "fig1 = plt.figure()\n",
    "ax = fig1.add_subplot(111)\n",
    "# Seaborn styling\n",
    "sns.set_style(\"darkgrid\")\n",
    "sns.set_context(\"paper\")\n",
    "seaMap = ListedColormap(sns.color_palette(\"spectral\"))\n",
    "azimDF.plot( kind='scatter',\n",
    "              x='azimRnd',\n",
    "              y='vLos_median',\n",
    "              c='nPnts',\n",
    "              s=100., cmap=seaMap, ax=ax)\n",
    "ax.plot( thetaArr, vLosArr )"
   ]
  },
  {
   "cell_type": "code",
   "execution_count": 17,
   "metadata": {},
   "outputs": [
    {
     "name": "stdout",
     "output_type": "stream",
     "text": [
      "           MLAT  normMLT\n",
      "187501  56.3960  -1.3707\n",
      "187502  56.5236  -1.4127\n",
      "187503  56.6476  -1.4548\n",
      "187504  56.7678  -1.4972\n",
      "187505  56.8843  -1.5397\n",
      "187506  56.9971  -1.5825\n",
      "187507  57.1061  -1.6255\n",
      "187517  57.1838  -1.3314\n",
      "187518  57.3358  -1.3729\n",
      "187519  57.4842  -1.4148\n",
      "187520  57.6291  -1.4569\n",
      "187521  57.7703  -1.4993\n",
      "187522  57.9079  -1.5419\n",
      "187523  58.0418  -1.5849\n",
      "187524  58.1721  -1.6281\n",
      "187529  57.9543  -1.2854\n",
      "187530  58.1307  -1.3264\n",
      "187531  58.3037  -1.3677\n",
      "187532  58.4732  -1.4093\n",
      "187533  58.6393  -1.4513\n",
      "187534  58.8019  -1.4936\n",
      "187535  58.9609  -1.5362\n",
      "187544  59.1016  -1.3132\n",
      "187711  57.1042  -0.0481\n",
      "187712  57.5261  -0.0511\n",
      "187713  57.9456  -0.0539\n",
      "187731  57.1458   0.0036\n",
      "187732  57.5719   0.0038\n",
      "187733  57.9955   0.0044\n",
      "187734  58.4171   0.0052\n",
      "187735  58.8370   0.0062\n",
      "187736  59.2555   0.0076\n",
      "187737  59.6727   0.0091\n",
      "187752  57.5860   0.0588\n",
      "187753  58.0121   0.0627\n",
      "187754  58.4360   0.0670\n",
      "187755  58.8581   0.0716\n",
      "187757  59.6977   0.0818\n",
      "187772  57.9951   0.1209\n",
      "187773  58.4196   0.1285\n",
      "187774  58.8421   0.1366\n",
      "187776  59.6819   0.1541\n"
     ]
    }
   ],
   "source": [
    "test = sapsDF[ sapsDF[\"date\"] == sapsTime ]\n",
    "print test[ [\"MLAT\", \"normMLT\"] ]"
   ]
  },
  {
   "cell_type": "code",
   "execution_count": 19,
   "metadata": {},
   "outputs": [
    {
     "data": {
      "text/plain": [
       "<matplotlib.axes._subplots.AxesSubplot at 0x7fa57c5c8dd0>"
      ]
     },
     "execution_count": 19,
     "metadata": {},
     "output_type": "execute_result"
    },
    {
     "data": {
      "image/png": "[encoded data removed]",
      "text/plain": [
       "<matplotlib.figure.Figure at 0x7fa57c308d10>"
      ]
     },
     "metadata": {},
     "output_type": "display_data"
    }
   ],
   "source": [
    "test.plot(x=\"MLAT\",y=\"normMLT\",kind=\"scatter\")"
   ]
  },
  {
   "cell_type": "code",
   "execution_count": null,
   "metadata": {
    "collapsed": true
   },
   "outputs": [],
   "source": []
  }
 ],
 "metadata": {
  "kernelspec": {
   "display_name": "Python 2",
   "language": "python",
   "name": "python2"
  },
  "language_info": {
   "codemirror_mode": {
    "name": "ipython",
    "version": 2
   },
   "file_extension": ".py",
   "mimetype": "text/x-python",
   "name": "python",
   "nbconvert_exporter": "python",
   "pygments_lexer": "ipython2",
   "version": "2.7.6"
  }
 },
 "nbformat": 4,
 "nbformat_minor": 2
}
