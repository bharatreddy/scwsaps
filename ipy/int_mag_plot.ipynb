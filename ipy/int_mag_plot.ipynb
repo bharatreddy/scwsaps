{
 "cells": [
  {
   "cell_type": "code",
   "execution_count": 1,
   "metadata": {},
   "outputs": [
    {
     "name": "stdout",
     "output_type": "stream",
     "text": [
      "Populating the interactive namespace from numpy and matplotlib\n"
     ]
    }
   ],
   "source": [
    "import pandas\n",
    "import datetime\n",
    "import os\n",
    "import seaborn as sns\n",
    "import matplotlib.pyplot as plt\n",
    "from matplotlib.colors import ListedColormap\n",
    "from matplotlib.colors import Normalize\n",
    "from matplotlib import ticker\n",
    "from matplotlib.dates import date2num, DateFormatter, MinuteLocator\n",
    "from matplotlib.ticker import FuncFormatter, MaxNLocator\n",
    "%pylab inline"
   ]
  },
  {
   "cell_type": "code",
   "execution_count": 2,
   "metadata": {
    "collapsed": true
   },
   "outputs": [],
   "source": [
    "intMagDir = \"../data/mag/\"\n",
    "inpDate = datetime.datetime(2011,5,16)#datetime.datetime(2011,6,8)#\n",
    "inpColNames = [ \"dateStr\", \"timeStr\", \"doy\",\\\n",
    "              \"X\", \"Y\", \"Z\", \"G\" ]"
   ]
  },
  {
   "cell_type": "code",
   "execution_count": 3,
   "metadata": {},
   "outputs": [],
   "source": [
    "def convert_to_datetime(row):\n",
    "    return datetime.datetime( \\\n",
    "        int(row[\"dateStr\"].split(\"-\")[0]),\\\n",
    "        int(row[\"dateStr\"].split(\"-\")[1]),\\\n",
    "        int(row[\"dateStr\"].split(\"-\")[2]),\\\n",
    "        int(row[\"timeStr\"].split(\":\")[0]),\\\n",
    "        int(row[\"timeStr\"].split(\":\")[1]) )"
   ]
  },
  {
   "cell_type": "code",
   "execution_count": 4,
   "metadata": {},
   "outputs": [],
   "source": [
    "frameList = []\n",
    "intMagDir = \"../data/mag/\"\n",
    "for subdir, dirs, files in os.walk(intMagDir):\n",
    "    if inpDate.strftime(\"%Y%m%d\") in subdir:\n",
    "        for currFile in files:\n",
    "            if inpDate.strftime(\"%Y%m%d\") in currFile:\n",
    "                # sometimes there are variable number of lines\n",
    "                # in the file, get them\n",
    "                file = open(subdir + \"/\" + currFile, \"r\")\n",
    "                allLines = file.readlines()\n",
    "                currLN = 10\n",
    "                isColLine = False\n",
    "                while not isColLine:\n",
    "                    currLN += 1\n",
    "                    if (\"DATE\" in allLines[currLN]) & (\"TIME\" in allLines[currLN]):\n",
    "                        currLN += 1\n",
    "                        isColLine = True\n",
    "                file.close()\n",
    "                currDF = pandas.read_csv( subdir + \"/\" + currFile,\\\n",
    "                                skiprows=currLN, names=inpColNames,\\\n",
    "                                delim_whitespace=True )\n",
    "                currDF[\"station\"] = currFile[0:3]\n",
    "                currDF[\"date\"] = currDF.apply( convert_to_datetime, axis=1 )\n",
    "                frameList.append( currDF )\n",
    "# Merge the data into a single DF\n",
    "intMagDF = pandas.concat( frameList )"
   ]
  },
  {
   "cell_type": "code",
   "execution_count": 5,
   "metadata": {},
   "outputs": [
    {
     "data": {
      "text/html": [
       "<div>\n",
       "<style scoped>\n",
       "    .dataframe tbody tr th:only-of-type {\n",
       "        vertical-align: middle;\n",
       "    }\n",
       "\n",
       "    .dataframe tbody tr th {\n",
       "        vertical-align: top;\n",
       "    }\n",
       "\n",
       "    .dataframe thead th {\n",
       "        text-align: right;\n",
       "    }\n",
       "</style>\n",
       "<table border=\"1\" class=\"dataframe\">\n",
       "  <thead>\n",
       "    <tr style=\"text-align: right;\">\n",
       "      <th></th>\n",
       "      <th>dateStr</th>\n",
       "      <th>timeStr</th>\n",
       "      <th>doy</th>\n",
       "      <th>X</th>\n",
       "      <th>Y</th>\n",
       "      <th>Z</th>\n",
       "      <th>G</th>\n",
       "      <th>station</th>\n",
       "      <th>date</th>\n",
       "    </tr>\n",
       "  </thead>\n",
       "  <tbody>\n",
       "    <tr>\n",
       "      <th>0</th>\n",
       "      <td>2011-05-16</td>\n",
       "      <td>00:00:00.000</td>\n",
       "      <td>136</td>\n",
       "      <td>20081.8</td>\n",
       "      <td>5804.1</td>\n",
       "      <td>-32420.4</td>\n",
       "      <td>99999.0</td>\n",
       "      <td>aia</td>\n",
       "      <td>2011-05-16 00:00:00</td>\n",
       "    </tr>\n",
       "    <tr>\n",
       "      <th>1</th>\n",
       "      <td>2011-05-16</td>\n",
       "      <td>00:01:00.000</td>\n",
       "      <td>136</td>\n",
       "      <td>20080.9</td>\n",
       "      <td>5804.3</td>\n",
       "      <td>-32419.9</td>\n",
       "      <td>99999.0</td>\n",
       "      <td>aia</td>\n",
       "      <td>2011-05-16 00:01:00</td>\n",
       "    </tr>\n",
       "    <tr>\n",
       "      <th>2</th>\n",
       "      <td>2011-05-16</td>\n",
       "      <td>00:02:00.000</td>\n",
       "      <td>136</td>\n",
       "      <td>20080.6</td>\n",
       "      <td>5804.4</td>\n",
       "      <td>-32419.6</td>\n",
       "      <td>99999.0</td>\n",
       "      <td>aia</td>\n",
       "      <td>2011-05-16 00:02:00</td>\n",
       "    </tr>\n",
       "    <tr>\n",
       "      <th>3</th>\n",
       "      <td>2011-05-16</td>\n",
       "      <td>00:03:00.000</td>\n",
       "      <td>136</td>\n",
       "      <td>20080.0</td>\n",
       "      <td>5804.1</td>\n",
       "      <td>-32419.4</td>\n",
       "      <td>99999.0</td>\n",
       "      <td>aia</td>\n",
       "      <td>2011-05-16 00:03:00</td>\n",
       "    </tr>\n",
       "    <tr>\n",
       "      <th>4</th>\n",
       "      <td>2011-05-16</td>\n",
       "      <td>00:04:00.000</td>\n",
       "      <td>136</td>\n",
       "      <td>20080.0</td>\n",
       "      <td>5803.7</td>\n",
       "      <td>-32419.4</td>\n",
       "      <td>99999.0</td>\n",
       "      <td>aia</td>\n",
       "      <td>2011-05-16 00:04:00</td>\n",
       "    </tr>\n",
       "  </tbody>\n",
       "</table>\n",
       "</div>"
      ],
      "text/plain": [
       "      dateStr       timeStr  doy        X       Y        Z        G station  \\\n",
       "0  2011-05-16  00:00:00.000  136  20081.8  5804.1 -32420.4  99999.0     aia   \n",
       "1  2011-05-16  00:01:00.000  136  20080.9  5804.3 -32419.9  99999.0     aia   \n",
       "2  2011-05-16  00:02:00.000  136  20080.6  5804.4 -32419.6  99999.0     aia   \n",
       "3  2011-05-16  00:03:00.000  136  20080.0  5804.1 -32419.4  99999.0     aia   \n",
       "4  2011-05-16  00:04:00.000  136  20080.0  5803.7 -32419.4  99999.0     aia   \n",
       "\n",
       "                 date  \n",
       "0 2011-05-16 00:00:00  \n",
       "1 2011-05-16 00:01:00  \n",
       "2 2011-05-16 00:02:00  \n",
       "3 2011-05-16 00:03:00  \n",
       "4 2011-05-16 00:04:00  "
      ]
     },
     "execution_count": 5,
     "metadata": {},
     "output_type": "execute_result"
    }
   ],
   "source": [
    "intMagDF.head()"
   ]
  },
  {
   "cell_type": "code",
   "execution_count": null,
   "metadata": {
    "collapsed": true
   },
   "outputs": [],
   "source": []
  }
 ],
 "metadata": {
  "kernelspec": {
   "display_name": "Python 2",
   "language": "python",
   "name": "python2"
  },
  "language_info": {
   "codemirror_mode": {
    "name": "ipython",
    "version": 2
   },
   "file_extension": ".py",
   "mimetype": "text/x-python",
   "name": "python",
   "nbconvert_exporter": "python",
   "pygments_lexer": "ipython2",
   "version": "2.7.6"
  }
 },
 "nbformat": 4,
 "nbformat_minor": 2
}
