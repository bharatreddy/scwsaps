{
 "cells": [
  {
   "cell_type": "code",
   "execution_count": 1,
   "metadata": {
    "collapsed": true
   },
   "outputs": [],
   "source": [
    "import pandas\n",
    "import datetime\n",
    "import feather\n",
    "import numpy\n",
    "import scipy.optimize\n",
    "import xarray\n",
    "import seaborn as sns\n",
    "import matplotlib.pyplot as plt\n",
    "from matplotlib.colors import ListedColormap\n",
    "from matplotlib.colors import Normalize\n",
    "from matplotlib import ticker\n",
    "from matplotlib.dates import date2num, DateFormatter\n",
    "from davitpy import utils\n",
    "%matplotlib inline"
   ]
  },
  {
   "cell_type": "code",
   "execution_count": 2,
   "metadata": {
    "collapsed": true
   },
   "outputs": [],
   "source": [
    "# Some constants\n",
    "eventDate = datetime.datetime(2011,6,8)\n",
    "timeStart = datetime.datetime(2011,6,8,4,0)\n",
    "selTime = datetime.datetime(2011,6,8,4,36) \n",
    "timeEnd = datetime.datetime(2011,6,8,7,0)\n",
    "sapsRadList = [ \"wal\", \"bks\",\"fhe\", \"fhw\", \"cve\",\"cvw\" ]\n",
    "sapsMlatRange = [ 56., 61. ]\n",
    "sapsVelCutoff = 50.\n",
    "sapsNpointsCutoff = 50 # per radar per beam\n",
    "azimRngCutoff= 35.\n",
    "nAzimsCutoff = 5"
   ]
  },
  {
   "cell_type": "code",
   "execution_count": 3,
   "metadata": {},
   "outputs": [
    {
     "data": {
      "text/html": [
       "<div>\n",
       "<table border=\"1\" class=\"dataframe\">\n",
       "  <thead>\n",
       "    <tr style=\"text-align: right;\">\n",
       "      <th></th>\n",
       "      <th>dateStr</th>\n",
       "      <th>timeStr</th>\n",
       "      <th>beam</th>\n",
       "      <th>range</th>\n",
       "      <th>azimCalcMag</th>\n",
       "      <th>vLos</th>\n",
       "      <th>MLAT</th>\n",
       "      <th>MLON</th>\n",
       "      <th>MLT</th>\n",
       "      <th>GLAT</th>\n",
       "      <th>GLON</th>\n",
       "      <th>radId</th>\n",
       "      <th>radCode</th>\n",
       "      <th>date</th>\n",
       "      <th>normMLT</th>\n",
       "    </tr>\n",
       "  </thead>\n",
       "  <tbody>\n",
       "    <tr>\n",
       "      <th>0</th>\n",
       "      <td>20110608</td>\n",
       "      <td>300</td>\n",
       "      <td>1</td>\n",
       "      <td>0</td>\n",
       "      <td>-5.7955</td>\n",
       "      <td>24.2035</td>\n",
       "      <td>39.2449</td>\n",
       "      <td>-145.0924</td>\n",
       "      <td>12.5656</td>\n",
       "      <td>44.3930</td>\n",
       "      <td>143.6157</td>\n",
       "      <td>40</td>\n",
       "      <td>hok</td>\n",
       "      <td>2011-06-08 03:00:00</td>\n",
       "      <td>-11.4344</td>\n",
       "    </tr>\n",
       "    <tr>\n",
       "      <th>1</th>\n",
       "      <td>20110608</td>\n",
       "      <td>300</td>\n",
       "      <td>1</td>\n",
       "      <td>1</td>\n",
       "      <td>-2.5622</td>\n",
       "      <td>26.8421</td>\n",
       "      <td>39.7386</td>\n",
       "      <td>-144.9443</td>\n",
       "      <td>12.5755</td>\n",
       "      <td>44.9025</td>\n",
       "      <td>143.7975</td>\n",
       "      <td>40</td>\n",
       "      <td>hok</td>\n",
       "      <td>2011-06-08 03:00:00</td>\n",
       "      <td>-11.4245</td>\n",
       "    </tr>\n",
       "    <tr>\n",
       "      <th>2</th>\n",
       "      <td>20110608</td>\n",
       "      <td>300</td>\n",
       "      <td>1</td>\n",
       "      <td>2</td>\n",
       "      <td>-0.7420</td>\n",
       "      <td>26.4890</td>\n",
       "      <td>40.1807</td>\n",
       "      <td>-144.8334</td>\n",
       "      <td>12.5829</td>\n",
       "      <td>45.3574</td>\n",
       "      <td>143.9379</td>\n",
       "      <td>40</td>\n",
       "      <td>hok</td>\n",
       "      <td>2011-06-08 03:00:00</td>\n",
       "      <td>-11.4171</td>\n",
       "    </tr>\n",
       "    <tr>\n",
       "      <th>3</th>\n",
       "      <td>20110608</td>\n",
       "      <td>300</td>\n",
       "      <td>1</td>\n",
       "      <td>3</td>\n",
       "      <td>0.4915</td>\n",
       "      <td>3.9162</td>\n",
       "      <td>40.6033</td>\n",
       "      <td>-144.7371</td>\n",
       "      <td>12.5893</td>\n",
       "      <td>45.7913</td>\n",
       "      <td>144.0629</td>\n",
       "      <td>40</td>\n",
       "      <td>hok</td>\n",
       "      <td>2011-06-08 03:00:00</td>\n",
       "      <td>-11.4107</td>\n",
       "    </tr>\n",
       "    <tr>\n",
       "      <th>4</th>\n",
       "      <td>20110608</td>\n",
       "      <td>300</td>\n",
       "      <td>1</td>\n",
       "      <td>4</td>\n",
       "      <td>1.3994</td>\n",
       "      <td>3.9162</td>\n",
       "      <td>41.0157</td>\n",
       "      <td>-144.6486</td>\n",
       "      <td>12.5952</td>\n",
       "      <td>46.2139</td>\n",
       "      <td>144.1805</td>\n",
       "      <td>40</td>\n",
       "      <td>hok</td>\n",
       "      <td>2011-06-08 03:00:00</td>\n",
       "      <td>-11.4048</td>\n",
       "    </tr>\n",
       "  </tbody>\n",
       "</table>\n",
       "</div>"
      ],
      "text/plain": [
       "    dateStr  timeStr  beam  range  azimCalcMag     vLos     MLAT      MLON  \\\n",
       "0  20110608      300     1      0      -5.7955  24.2035  39.2449 -145.0924   \n",
       "1  20110608      300     1      1      -2.5622  26.8421  39.7386 -144.9443   \n",
       "2  20110608      300     1      2      -0.7420  26.4890  40.1807 -144.8334   \n",
       "3  20110608      300     1      3       0.4915   3.9162  40.6033 -144.7371   \n",
       "4  20110608      300     1      4       1.3994   3.9162  41.0157 -144.6486   \n",
       "\n",
       "       MLT     GLAT      GLON  radId radCode                date  normMLT  \n",
       "0  12.5656  44.3930  143.6157     40     hok 2011-06-08 03:00:00 -11.4344  \n",
       "1  12.5755  44.9025  143.7975     40     hok 2011-06-08 03:00:00 -11.4245  \n",
       "2  12.5829  45.3574  143.9379     40     hok 2011-06-08 03:00:00 -11.4171  \n",
       "3  12.5893  45.7913  144.0629     40     hok 2011-06-08 03:00:00 -11.4107  \n",
       "4  12.5952  46.2139  144.1805     40     hok 2011-06-08 03:00:00 -11.4048  "
      ]
     },
     "execution_count": 3,
     "metadata": {},
     "output_type": "execute_result"
    }
   ],
   "source": [
    "# read from the feather file\n",
    "velsDF = feather.read_dataframe('../data/saps-' +\\\n",
    "                eventDate.strftime(\"%Y%m%d\") + '.feather')\n",
    "velsDF.head()"
   ]
  },
  {
   "cell_type": "code",
   "execution_count": 4,
   "metadata": {
    "collapsed": true
   },
   "outputs": [],
   "source": [
    "# Filter SAPS scatter using the\n",
    "# following criteria!!!\n",
    "# 1) select the radars where SAPS\n",
    "# is observed\n",
    "sapsDF = velsDF[ velsDF[\"radCode\"].isin(sapsRadList) ]\n",
    "# 2) The flows are westward!\n",
    "# So beams with negative azimuth will have\n",
    "# negative LoS vels and vice-versa!\n",
    "sapsDF = sapsDF[sapsDF[\"azimCalcMag\"]/sapsDF[\"vLos\"] > 0. ]\n",
    "# 3) Set a MLAT limit\n",
    "sapsDF = sapsDF[ (sapsDF[\"MLAT\"] >= sapsMlatRange[0]) &\\\n",
    "               (sapsDF[\"MLAT\"] <= sapsMlatRange[1]) ]\n",
    "# 4) Set a velocity cutoff\n",
    "sapsDF = sapsDF[ numpy.abs(sapsDF[\"vLos\"]) >= sapsVelCutoff ]\n",
    "# 5) Limit to selected timerange\n",
    "sapsDF = sapsDF[ (sapsDF[\"date\"] >= timeStart) &\\\n",
    "               (sapsDF[\"date\"] <= timeEnd) ].reset_index(drop=True)"
   ]
  },
  {
   "cell_type": "code",
   "execution_count": 24,
   "metadata": {},
   "outputs": [
    {
     "name": "stdout",
     "output_type": "stream",
     "text": [
      "[-3. -1. -0.]\n",
      "-3.0\n",
      "[-3. -1. -0.]\n",
      "[-3. -1. -0.]\n"
     ]
    },
    {
     "data": {
      "image/png": "[encoded data removed]",
      "text/plain": [
       "<matplotlib.figure.Figure at 0x7f29545fd690>"
      ]
     },
     "metadata": {},
     "output_type": "display_data"
    }
   ],
   "source": [
    "fig1 = plt.figure()\n",
    "ax = fig1.add_subplot(111)\n",
    "\n",
    "# round off normMLT for L-shell fitting\n",
    "sapsDF[\"normMLTRnd\"] = sapsDF[\"normMLT\"].round()\n",
    "sapsDF[\"azimRnd\"] = sapsDF[\"azimCalcMag\"].round()\n",
    "# We'll try to get L-shell fitted vectors at different\n",
    "# (rounded) MLTs for each given time!\n",
    "uniqDatesList = sorted(sapsDF[\"date\"].unique())\n",
    "for cDate in uniqDatesList:\n",
    "    currLshellDF = sapsDF[ sapsDF[\"date\"] == cDate ]\n",
    "    # get all MLTs at this time and L-shell fit the data\n",
    "    mltAzimDF = currLshellDF[ [\"normMLTRnd\", \"azimRnd\"]\\\n",
    "                    ].groupby(\"normMLTRnd\").aggregate(\\\n",
    "                    lambda x: set(list(x))).reset_index()\n",
    "    mltAzimDF.columns = [ \"normMLTRnd\", \"azimList\" ]\n",
    "    mltDelAzimDF = currLshellDF[ [\"normMLTRnd\", \"azimRnd\"]\\\n",
    "                    ].groupby(\"normMLTRnd\").aggregate(\\\n",
    "                    lambda x: max(x) - min(x)).reset_index()\n",
    "    mltDelAzimDF.columns = [ \"normMLTRnd\", \"delAzim\" ]\n",
    "    mltAzimDF = pandas.merge( mltAzimDF, mltDelAzimDF )\n",
    "    if cDate == numpy.datetime64(selTime):\n",
    "        # discard all MLTs where azim range is below\n",
    "        # the cutoff Value\n",
    "        mltAzimDF = mltAzimDF[ mltAzimDF[\"delAzim\"] >= azimRngCutoff ]\n",
    "        goodAzimList = mltAzimDF[\"normMLTRnd\"].unique()\n",
    "        for currAzim in goodAzimList:\n",
    "            fitsDF = currLshellDF[ \\\n",
    "                             currLshellDF[\"normMLTRnd\"] == currAzim\\\n",
    "                            ].reset_index(drop=True)\n",
    "            print goodAzimList\n",
    "            if currAzim == -3:\n",
    "                print currAzim\n",
    "                fitsDF.plot( x=\"azimRnd\", y=\"vLos\", kind=\"scatter\", ax=ax )"
   ]
  },
  {
   "cell_type": "code",
   "execution_count": null,
   "metadata": {
    "collapsed": true
   },
   "outputs": [],
   "source": []
  }
 ],
 "metadata": {
  "kernelspec": {
   "display_name": "Python 2",
   "language": "python",
   "name": "python2"
  },
  "language_info": {
   "codemirror_mode": {
    "name": "ipython",
    "version": 2
   },
   "file_extension": ".py",
   "mimetype": "text/x-python",
   "name": "python",
   "nbconvert_exporter": "python",
   "pygments_lexer": "ipython2",
   "version": "2.7.6"
  }
 },
 "nbformat": 4,
 "nbformat_minor": 2
}
