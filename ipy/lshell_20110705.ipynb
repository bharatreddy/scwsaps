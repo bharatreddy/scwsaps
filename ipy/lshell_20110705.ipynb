{
 "cells": [
  {
   "cell_type": "code",
   "execution_count": 1,
   "metadata": {
    "collapsed": true
   },
   "outputs": [],
   "source": [
    "import pandas\n",
    "import datetime\n",
    "import feather\n",
    "import numpy\n",
    "import scipy.optimize\n",
    "from aacgmv2 import convert_mlt\n",
    "import seaborn as sns\n",
    "from davitpy import utils\n",
    "from imagers.ssusi import ssusi_utils\n",
    "import matplotlib as mpl\n",
    "import matplotlib.pyplot as plt\n",
    "from matplotlib.colors import ListedColormap\n",
    "from matplotlib.colors import Normalize\n",
    "from matplotlib import ticker\n",
    "from matplotlib.dates import date2num, DateFormatter\n",
    "%matplotlib inline"
   ]
  },
  {
   "cell_type": "code",
   "execution_count": 2,
   "metadata": {
    "collapsed": true
   },
   "outputs": [],
   "source": [
    "# Some constants\n",
    "eventDate = datetime.datetime(2011,7,25)\n",
    "timeStart = datetime.datetime(2011,7,25,3,0)\n",
    "timeEnd = datetime.datetime(2011,7,25,7,0)\n",
    "sapsTime = datetime.datetime(2011,7,25,5,0)\n",
    "sapsRadList = [ \"cvw\", \"cve\",\"fhw\",\\\n",
    "               \"fhe\", \"bks\", \"wal\" ]\n",
    "selBeam = 13\n",
    "sapsMlatRange = [ 52., 63. ]#[ 56., 60. ]\n",
    "# we'll use a higher cutoff for SAID\n",
    "saidVelCutoff = 200.\n",
    "sapsNpointsCutoff = 0 # per radar per beam\n",
    "velScale = [ -800, 800 ]\n",
    "coords=\"mag\"\n",
    "pwrScale = [ 0, 40 ]\n",
    "spwScale = [ 0, 100 ]"
   ]
  },
  {
   "cell_type": "code",
   "execution_count": null,
   "metadata": {
    "collapsed": true
   },
   "outputs": [],
   "source": [
    "# read from the feather file\n",
    "velsDF = feather.read_dataframe('../data/saps-vps-' +\\\n",
    "                eventDate.strftime(\"%Y%m%d\") + '.feather')\n",
    "velsDF[\"velMagn\"] = numpy.abs(velsDF[\"vLos\"])\n",
    "# select data within a MLAT range\n",
    "velsDF = velsDF[ (velsDF[\"MLAT\"] >= sapsMlatRange[0]) &\\\n",
    "               (velsDF[\"MLAT\"] <= sapsMlatRange[1]) ]\n",
    "# filter SAID data\n",
    "# we'll get only those velocities\n",
    "# which have a westward sense and\n",
    "# which are greater than cutoff (300 m/s)\n",
    "velsDF = velsDF[ (numpy.abs(velsDF[\"vLos\"]) >= saidVelCutoff) &\\\n",
    "               ( (velsDF[\"vLos\"]/velsDF[\"azimCalcMag\"]) > 0.)\\\n",
    "               ].reset_index(drop=True)\n",
    "velsDF.head()"
   ]
  }
 ],
 "metadata": {
  "kernelspec": {
   "display_name": "Python 2",
   "language": "python",
   "name": "python2"
  },
  "language_info": {
   "codemirror_mode": {
    "name": "ipython",
    "version": 2
   },
   "file_extension": ".py",
   "mimetype": "text/x-python",
   "name": "python",
   "nbconvert_exporter": "python",
   "pygments_lexer": "ipython2",
   "version": "2.7.6"
  }
 },
 "nbformat": 4,
 "nbformat_minor": 2
}
