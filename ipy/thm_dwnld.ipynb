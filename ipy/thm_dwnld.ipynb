{
 "cells": [
  {
   "cell_type": "code",
   "execution_count": 1,
   "metadata": {
    "collapsed": true
   },
   "outputs": [],
   "source": [
    "import pandas\n",
    "import datetime\n",
    "import requests\n",
    "import bs4\n",
    "import os\n",
    "import re"
   ]
  },
  {
   "cell_type": "code",
   "execution_count": 2,
   "metadata": {
    "collapsed": true
   },
   "outputs": [],
   "source": [
    "baseUrl = \"http://themis.ssl.berkeley.edu/data/themis/thg/l2/mag/\"\n",
    "outBaseDir = \"/home/bharat/Documents/code/scwsaps/data/mag/\"\n",
    "inpDate = datetime.datetime(2011,6,8)#datetime.datetime(2011,5,16)"
   ]
  },
  {
   "cell_type": "code",
   "execution_count": 3,
   "metadata": {
    "collapsed": true
   },
   "outputs": [],
   "source": [
    "page = requests.get(baseUrl).text\n",
    "soup = bs4.BeautifulSoup(page, 'html.parser')\n",
    "allLinks = [baseUrl + node.get('href') for node in soup.find_all('a') ]\n",
    "# loop through and download data from req places\n",
    "cnt = 0\n",
    "for ll in allLinks:\n",
    "    if \"Station-Code\" in ll:\n",
    "        rf = requests.get( ll )\n",
    "        currFName = rf.url.split(\"/\")[-1]\n",
    "        with open( outBaseDir + currFName, \"wb\" ) as stnData:\n",
    "            stnData.write(rf.content)\n",
    "    if (ll.split('/')[-1] == '') & (len(ll.split('/')[-2]) >= 3):\n",
    "        fileUrl = ll + inpDate.strftime(\"%Y\") +\\\n",
    "                    \"/\" + \"thg_l2_mag_\" + ll.split('/')[-2] + \"_\" +\\\n",
    "                    inpDate.strftime(\"%Y%m%d\") + \"_v01.cdf\"\n",
    "        rf = requests.get( fileUrl )\n",
    "        if rf.status_code == 200:\n",
    "            currFName = rf.url.split(\"/\")[-1]\n",
    "            fileOutDir = outBaseDir + \"thg_\" +\\\n",
    "                        inpDate.strftime(\"%Y%m%d\") + \"/\" + currFName\n",
    "            with open( fileOutDir, \"wb\" ) as stnData:\n",
    "                stnData.write(rf.content)"
   ]
  },
  {
   "cell_type": "code",
   "execution_count": null,
   "metadata": {
    "collapsed": true
   },
   "outputs": [],
   "source": []
  }
 ],
 "metadata": {
  "kernelspec": {
   "display_name": "Python 2",
   "language": "python",
   "name": "python2"
  },
  "language_info": {
   "codemirror_mode": {
    "name": "ipython",
    "version": 2
   },
   "file_extension": ".py",
   "mimetype": "text/x-python",
   "name": "python",
   "nbconvert_exporter": "python",
   "pygments_lexer": "ipython2",
   "version": "2.7.6"
  }
 },
 "nbformat": 4,
 "nbformat_minor": 2
}
