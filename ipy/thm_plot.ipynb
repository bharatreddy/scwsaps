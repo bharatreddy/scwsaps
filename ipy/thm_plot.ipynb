{
 "cells": [
  {
   "cell_type": "code",
   "execution_count": 8,
   "metadata": {},
   "outputs": [
    {
     "name": "stdout",
     "output_type": "stream",
     "text": [
      "Populating the interactive namespace from numpy and matplotlib\n"
     ]
    }
   ],
   "source": [
    "import pandas\n",
    "import numpy\n",
    "import datetime\n",
    "import os\n",
    "os.environ[\"CDF_LIB\"] = \"cdf36_4-dist/lib\"\n",
    "from spacepy import pycdf\n",
    "import seaborn as sns\n",
    "import aacgmv2\n",
    "import matplotlib.pyplot as plt\n",
    "from matplotlib.colors import ListedColormap\n",
    "from matplotlib.colors import Normalize\n",
    "from matplotlib import ticker\n",
    "from matplotlib.dates import date2num, DateFormatter, MinuteLocator\n",
    "from matplotlib.ticker import FuncFormatter, MaxNLocator\n",
    "%pylab inline"
   ]
  },
  {
   "cell_type": "code",
   "execution_count": 2,
   "metadata": {
    "collapsed": true
   },
   "outputs": [],
   "source": [
    "outBaseDir = \"/home/bharat/Documents/code/scwsaps/data/mag/\"\n",
    "inpDate = datetime.datetime(2011,5,16)"
   ]
  },
  {
   "cell_type": "code",
   "execution_count": null,
   "metadata": {},
   "outputs": [
    {
     "data": {
      "text/html": [
       "<div>\n",
       "<style scoped>\n",
       "    .dataframe tbody tr th:only-of-type {\n",
       "        vertical-align: middle;\n",
       "    }\n",
       "\n",
       "    .dataframe tbody tr th {\n",
       "        vertical-align: top;\n",
       "    }\n",
       "\n",
       "    .dataframe thead th {\n",
       "        text-align: right;\n",
       "    }\n",
       "</style>\n",
       "<table border=\"1\" class=\"dataframe\">\n",
       "  <thead>\n",
       "    <tr style=\"text-align: right;\">\n",
       "      <th></th>\n",
       "      <th>mlat</th>\n",
       "      <th>mlon</th>\n",
       "      <th>name</th>\n",
       "      <th>station</th>\n",
       "    </tr>\n",
       "  </thead>\n",
       "  <tbody>\n",
       "    <tr>\n",
       "      <th>0</th>\n",
       "      <td>65.49</td>\n",
       "      <td>101.09</td>\n",
       "      <td>Abisko,</td>\n",
       "      <td>ABK</td>\n",
       "    </tr>\n",
       "    <tr>\n",
       "      <th>1</th>\n",
       "      <td>68.75</td>\n",
       "      <td>52.69</td>\n",
       "      <td>Tasiilaq,</td>\n",
       "      <td>AMK</td>\n",
       "    </tr>\n",
       "    <tr>\n",
       "      <th>2</th>\n",
       "      <td>65.67</td>\n",
       "      <td>136.68</td>\n",
       "      <td>Amderma,</td>\n",
       "      <td>AMD</td>\n",
       "    </tr>\n",
       "    <tr>\n",
       "      <th>3</th>\n",
       "      <td>48.79</td>\n",
       "      <td>331.29</td>\n",
       "      <td>Americus,</td>\n",
       "      <td>AMER</td>\n",
       "    </tr>\n",
       "    <tr>\n",
       "      <th>4</th>\n",
       "      <td>66.6</td>\n",
       "      <td>99.44</td>\n",
       "      <td>Andenes,</td>\n",
       "      <td>AND</td>\n",
       "    </tr>\n",
       "  </tbody>\n",
       "</table>\n",
       "</div>"
      ],
      "text/plain": [
       "    mlat    mlon       name station\n",
       "0  65.49  101.09    Abisko,     ABK\n",
       "1  68.75   52.69  Tasiilaq,     AMK\n",
       "2  65.67  136.68   Amderma,     AMD\n",
       "3  48.79  331.29  Americus,    AMER\n",
       "4   66.6   99.44   Andenes,     AND"
      ]
     },
     "execution_count": 3,
     "metadata": {},
     "output_type": "execute_result"
    }
   ],
   "source": [
    "# read station data\n",
    "# read_csv can't handle this!\n",
    "stnCodeArr = []\n",
    "stnNameArr = []\n",
    "stnMlatArr = []\n",
    "stnMlonArr = []\n",
    "fStn = open(outBaseDir + \"Station-Code-19700101.txt\")\n",
    "for nl, ll in enumerate(fStn.readlines()):\n",
    "    if nl > 0:\n",
    "        lineData = ll.split()\n",
    "        stnCodeArr.append( lineData[0] )\n",
    "        stnNameArr.append( lineData[3] )\n",
    "        stnMlatArr.append( lineData[-5] )\n",
    "        stnMlonArr.append( lineData[-4] )\n",
    "# convert to dataframe\n",
    "thmStnDF = pandas.DataFrame( {\n",
    "    \"station\":stnCodeArr,\n",
    "    \"name\":stnNameArr,\n",
    "    \"mlat\":stnMlatArr,\n",
    "    \"mlon\":stnMlonArr\n",
    "} )\n",
    "thmStnDF.head()"
   ]
  },
  {
   "cell_type": "code",
   "execution_count": 13,
   "metadata": {},
   "outputs": [
    {
     "name": "stdout",
     "output_type": "stream",
     "text": [
      "range_epoch: CDF_EPOCH [2]\n",
      "thg_mag_amer: CDF_REAL4 [172800, 3]\n",
      "thg_mag_amer_compno: CDF_INT4 [3] NRV\n",
      "thg_mag_amer_epoch: CDF_EPOCH [0]\n",
      "thg_mag_amer_epoch0: CDF_EPOCH [] NRV\n",
      "thg_mag_amer_labl: CDF_CHAR*21 [3] NRV\n",
      "thg_mag_amer_time: CDF_REAL8 [172800]\n",
      "thg_mag_amer_unit: CDF_CHAR*2 [3] NRV\n"
     ]
    }
   ],
   "source": [
    "# read the actual magnetometer data\n",
    "t = \"/home/bharat/Documents/code/scwsaps/data/mag/thg_20110516/thg_l2_mag_amer_20110516_v01.cdf\"\n",
    "currCdf = pycdf.CDF(t)\n",
    "print currCdf"
   ]
  },
  {
   "cell_type": "code",
   "execution_count": null,
   "metadata": {},
   "outputs": [],
   "source": [
    "for ii in currCdf[\"thg_mag_amer\"]:\n",
    "    print ii"
   ]
  },
  {
   "cell_type": "code",
   "execution_count": null,
   "metadata": {
    "collapsed": true
   },
   "outputs": [],
   "source": []
  }
 ],
 "metadata": {
  "kernelspec": {
   "display_name": "Python 2",
   "language": "python",
   "name": "python2"
  },
  "language_info": {
   "codemirror_mode": {
    "name": "ipython",
    "version": 2
   },
   "file_extension": ".py",
   "mimetype": "text/x-python",
   "name": "python",
   "nbconvert_exporter": "python",
   "pygments_lexer": "ipython2",
   "version": "2.7.6"
  }
 },
 "nbformat": 4,
 "nbformat_minor": 2
}
